{
 "cells": [
  {
   "cell_type": "markdown",
   "id": "93273e18",
   "metadata": {},
   "source": [
    "# План работы\n",
    "\n",
    "1. Подготовить данные;\n",
    "   * Откроем файлы и изучим их\n",
    "   * Проверим, что эффективность обогащения рассчитана правильно.\n",
    "     * Вычислим её на обучающей выборке для признака rougher.output.recovery.\n",
    "     * Найдём MAE между вашими расчётами и значением признака. Опишем выводы.\n",
    "   * Проанализируем признаки, недоступные в тестовой выборке.\n",
    "     * Что это за параметры? К какому типу относятся?\n",
    "   * Проведем предобработку данных\n",
    "2. Проведем исследовательский анализ данных;\n",
    "   * Посмотрим, как меняется концентрация металлов (Au, Ag, Pb) на различных этапах очистки. Опишем выводы\n",
    "   * Сравним распределения размеров гранул сырья на обучающей и тестовой выборках. Если распределения сильно отличаются друг от друга, оценка модели будет неправильной\n",
    "   * Напишем функцию для вычисления итоговой sMAPE\n",
    "3. Построим и обучить модель.\n",
    "   * Обучим разные модели и оцените их качество кросс-валидацией. Выберем лучшую модель и проверьте её на тестовой выборке. Опишем выводы"
   ]
  },
  {
   "cell_type": "markdown",
   "id": "f0524c01",
   "metadata": {},
   "source": [
    "## Подготовить данные"
   ]
  },
  {
   "cell_type": "markdown",
   "id": "5d1f50be",
   "metadata": {},
   "source": [
    "### Откроем файлы и изучим их"
   ]
  },
  {
   "cell_type": "code",
   "execution_count": 62,
   "id": "732124d5",
   "metadata": {},
   "outputs": [],
   "source": [
    "import pandas as pd\n",
    "import numpy as np\n",
    "import seaborn as sns\n",
    "import matplotlib.pyplot as plt\n",
    "\n",
    "from sklearn.model_selection import train_test_split, cross_val_score\n",
    "\n",
    "from sklearn.tree import DecisionTreeRegressor\n",
    "from sklearn.ensemble import RandomForestRegressor\n",
    "from sklearn.linear_model import LinearRegression\n",
    "\n",
    "from numpy.random import RandomState\n",
    "from sklearn.metrics import make_scorer, mean_absolute_error\n",
    "from sklearn.dummy import DummyRegressor\n",
    "\n",
    "from sklearn.experimental import enable_halving_search_cv\n",
    "from sklearn.model_selection import GridSearchCV\n",
    "from sklearn.datasets import make_regression\n"
   ]
  },
  {
   "cell_type": "code",
   "execution_count": 63,
   "id": "d0711453",
   "metadata": {},
   "outputs": [],
   "source": [
    "df_full = pd.read_csv('/datasets/gold_recovery_full_new.csv')\n",
    "df_test = pd.read_csv('/datasets/gold_recovery_test_new.csv')\n",
    "df_train = pd.read_csv('/datasets/gold_recovery_train_new.csv')"
   ]
  },
  {
   "cell_type": "code",
   "execution_count": 64,
   "id": "cb538b91",
   "metadata": {},
   "outputs": [
    {
     "name": "stdout",
     "output_type": "stream",
     "text": [
      "<class 'pandas.core.frame.DataFrame'>\n",
      "RangeIndex: 19439 entries, 0 to 19438\n",
      "Data columns (total 87 columns):\n",
      " #   Column                                              Non-Null Count  Dtype  \n",
      "---  ------                                              --------------  -----  \n",
      " 0   date                                                19439 non-null  object \n",
      " 1   final.output.concentrate_ag                         19438 non-null  float64\n",
      " 2   final.output.concentrate_pb                         19438 non-null  float64\n",
      " 3   final.output.concentrate_sol                        19228 non-null  float64\n",
      " 4   final.output.concentrate_au                         19439 non-null  float64\n",
      " 5   final.output.recovery                               19439 non-null  float64\n",
      " 6   final.output.tail_ag                                19438 non-null  float64\n",
      " 7   final.output.tail_pb                                19338 non-null  float64\n",
      " 8   final.output.tail_sol                               19433 non-null  float64\n",
      " 9   final.output.tail_au                                19439 non-null  float64\n",
      " 10  primary_cleaner.input.sulfate                       19415 non-null  float64\n",
      " 11  primary_cleaner.input.depressant                    19402 non-null  float64\n",
      " 12  primary_cleaner.input.feed_size                     19439 non-null  float64\n",
      " 13  primary_cleaner.input.xanthate                      19335 non-null  float64\n",
      " 14  primary_cleaner.output.concentrate_ag               19439 non-null  float64\n",
      " 15  primary_cleaner.output.concentrate_pb               19323 non-null  float64\n",
      " 16  primary_cleaner.output.concentrate_sol              19069 non-null  float64\n",
      " 17  primary_cleaner.output.concentrate_au               19439 non-null  float64\n",
      " 18  primary_cleaner.output.tail_ag                      19435 non-null  float64\n",
      " 19  primary_cleaner.output.tail_pb                      19418 non-null  float64\n",
      " 20  primary_cleaner.output.tail_sol                     19377 non-null  float64\n",
      " 21  primary_cleaner.output.tail_au                      19439 non-null  float64\n",
      " 22  primary_cleaner.state.floatbank8_a_air              19435 non-null  float64\n",
      " 23  primary_cleaner.state.floatbank8_a_level            19438 non-null  float64\n",
      " 24  primary_cleaner.state.floatbank8_b_air              19435 non-null  float64\n",
      " 25  primary_cleaner.state.floatbank8_b_level            19438 non-null  float64\n",
      " 26  primary_cleaner.state.floatbank8_c_air              19437 non-null  float64\n",
      " 27  primary_cleaner.state.floatbank8_c_level            19438 non-null  float64\n",
      " 28  primary_cleaner.state.floatbank8_d_air              19436 non-null  float64\n",
      " 29  primary_cleaner.state.floatbank8_d_level            19438 non-null  float64\n",
      " 30  rougher.calculation.sulfate_to_au_concentrate       19437 non-null  float64\n",
      " 31  rougher.calculation.floatbank10_sulfate_to_au_feed  19437 non-null  float64\n",
      " 32  rougher.calculation.floatbank11_sulfate_to_au_feed  19437 non-null  float64\n",
      " 33  rougher.calculation.au_pb_ratio                     19439 non-null  float64\n",
      " 34  rougher.input.feed_ag                               19439 non-null  float64\n",
      " 35  rougher.input.feed_pb                               19339 non-null  float64\n",
      " 36  rougher.input.feed_rate                             19428 non-null  float64\n",
      " 37  rougher.input.feed_size                             19294 non-null  float64\n",
      " 38  rougher.input.feed_sol                              19340 non-null  float64\n",
      " 39  rougher.input.feed_au                               19439 non-null  float64\n",
      " 40  rougher.input.floatbank10_sulfate                   19405 non-null  float64\n",
      " 41  rougher.input.floatbank10_xanthate                  19431 non-null  float64\n",
      " 42  rougher.input.floatbank11_sulfate                   19395 non-null  float64\n",
      " 43  rougher.input.floatbank11_xanthate                  18986 non-null  float64\n",
      " 44  rougher.output.concentrate_ag                       19439 non-null  float64\n",
      " 45  rougher.output.concentrate_pb                       19439 non-null  float64\n",
      " 46  rougher.output.concentrate_sol                      19416 non-null  float64\n",
      " 47  rougher.output.concentrate_au                       19439 non-null  float64\n",
      " 48  rougher.output.recovery                             19439 non-null  float64\n",
      " 49  rougher.output.tail_ag                              19438 non-null  float64\n",
      " 50  rougher.output.tail_pb                              19439 non-null  float64\n",
      " 51  rougher.output.tail_sol                             19439 non-null  float64\n",
      " 52  rougher.output.tail_au                              19439 non-null  float64\n",
      " 53  rougher.state.floatbank10_a_air                     19438 non-null  float64\n",
      " 54  rougher.state.floatbank10_a_level                   19438 non-null  float64\n",
      " 55  rougher.state.floatbank10_b_air                     19438 non-null  float64\n",
      " 56  rougher.state.floatbank10_b_level                   19438 non-null  float64\n",
      " 57  rougher.state.floatbank10_c_air                     19438 non-null  float64\n",
      " 58  rougher.state.floatbank10_c_level                   19438 non-null  float64\n",
      " 59  rougher.state.floatbank10_d_air                     19439 non-null  float64\n",
      " 60  rougher.state.floatbank10_d_level                   19439 non-null  float64\n",
      " 61  rougher.state.floatbank10_e_air                     19003 non-null  float64\n",
      " 62  rougher.state.floatbank10_e_level                   19439 non-null  float64\n",
      " 63  rougher.state.floatbank10_f_air                     19439 non-null  float64\n",
      " 64  rougher.state.floatbank10_f_level                   19439 non-null  float64\n",
      " 65  secondary_cleaner.output.tail_ag                    19437 non-null  float64\n",
      " 66  secondary_cleaner.output.tail_pb                    19427 non-null  float64\n",
      " 67  secondary_cleaner.output.tail_sol                   17691 non-null  float64\n",
      " 68  secondary_cleaner.output.tail_au                    19439 non-null  float64\n",
      " 69  secondary_cleaner.state.floatbank2_a_air            19219 non-null  float64\n",
      " 70  secondary_cleaner.state.floatbank2_a_level          19438 non-null  float64\n",
      " 71  secondary_cleaner.state.floatbank2_b_air            19416 non-null  float64\n",
      " 72  secondary_cleaner.state.floatbank2_b_level          19438 non-null  float64\n",
      " 73  secondary_cleaner.state.floatbank3_a_air            19426 non-null  float64\n",
      " 74  secondary_cleaner.state.floatbank3_a_level          19438 non-null  float64\n",
      " 75  secondary_cleaner.state.floatbank3_b_air            19438 non-null  float64\n",
      " 76  secondary_cleaner.state.floatbank3_b_level          19438 non-null  float64\n",
      " 77  secondary_cleaner.state.floatbank4_a_air            19433 non-null  float64\n",
      " 78  secondary_cleaner.state.floatbank4_a_level          19438 non-null  float64\n",
      " 79  secondary_cleaner.state.floatbank4_b_air            19438 non-null  float64\n",
      " 80  secondary_cleaner.state.floatbank4_b_level          19438 non-null  float64\n",
      " 81  secondary_cleaner.state.floatbank5_a_air            19438 non-null  float64\n",
      " 82  secondary_cleaner.state.floatbank5_a_level          19438 non-null  float64\n",
      " 83  secondary_cleaner.state.floatbank5_b_air            19438 non-null  float64\n",
      " 84  secondary_cleaner.state.floatbank5_b_level          19438 non-null  float64\n",
      " 85  secondary_cleaner.state.floatbank6_a_air            19437 non-null  float64\n",
      " 86  secondary_cleaner.state.floatbank6_a_level          19438 non-null  float64\n",
      "dtypes: float64(86), object(1)\n",
      "memory usage: 12.9+ MB\n",
      "None\n"
     ]
    }
   ],
   "source": [
    "print(df_full.info())\n"
   ]
  },
  {
   "cell_type": "code",
   "execution_count": 65,
   "id": "eec025df",
   "metadata": {},
   "outputs": [
    {
     "name": "stdout",
     "output_type": "stream",
     "text": [
      "<class 'pandas.core.frame.DataFrame'>\n",
      "RangeIndex: 5290 entries, 0 to 5289\n",
      "Data columns (total 53 columns):\n",
      " #   Column                                      Non-Null Count  Dtype  \n",
      "---  ------                                      --------------  -----  \n",
      " 0   date                                        5290 non-null   object \n",
      " 1   primary_cleaner.input.sulfate               5286 non-null   float64\n",
      " 2   primary_cleaner.input.depressant            5285 non-null   float64\n",
      " 3   primary_cleaner.input.feed_size             5290 non-null   float64\n",
      " 4   primary_cleaner.input.xanthate              5286 non-null   float64\n",
      " 5   primary_cleaner.state.floatbank8_a_air      5290 non-null   float64\n",
      " 6   primary_cleaner.state.floatbank8_a_level    5290 non-null   float64\n",
      " 7   primary_cleaner.state.floatbank8_b_air      5290 non-null   float64\n",
      " 8   primary_cleaner.state.floatbank8_b_level    5290 non-null   float64\n",
      " 9   primary_cleaner.state.floatbank8_c_air      5290 non-null   float64\n",
      " 10  primary_cleaner.state.floatbank8_c_level    5290 non-null   float64\n",
      " 11  primary_cleaner.state.floatbank8_d_air      5290 non-null   float64\n",
      " 12  primary_cleaner.state.floatbank8_d_level    5290 non-null   float64\n",
      " 13  rougher.input.feed_ag                       5290 non-null   float64\n",
      " 14  rougher.input.feed_pb                       5290 non-null   float64\n",
      " 15  rougher.input.feed_rate                     5287 non-null   float64\n",
      " 16  rougher.input.feed_size                     5289 non-null   float64\n",
      " 17  rougher.input.feed_sol                      5269 non-null   float64\n",
      " 18  rougher.input.feed_au                       5290 non-null   float64\n",
      " 19  rougher.input.floatbank10_sulfate           5285 non-null   float64\n",
      " 20  rougher.input.floatbank10_xanthate          5290 non-null   float64\n",
      " 21  rougher.input.floatbank11_sulfate           5282 non-null   float64\n",
      " 22  rougher.input.floatbank11_xanthate          5265 non-null   float64\n",
      " 23  rougher.state.floatbank10_a_air             5290 non-null   float64\n",
      " 24  rougher.state.floatbank10_a_level           5290 non-null   float64\n",
      " 25  rougher.state.floatbank10_b_air             5290 non-null   float64\n",
      " 26  rougher.state.floatbank10_b_level           5290 non-null   float64\n",
      " 27  rougher.state.floatbank10_c_air             5290 non-null   float64\n",
      " 28  rougher.state.floatbank10_c_level           5290 non-null   float64\n",
      " 29  rougher.state.floatbank10_d_air             5290 non-null   float64\n",
      " 30  rougher.state.floatbank10_d_level           5290 non-null   float64\n",
      " 31  rougher.state.floatbank10_e_air             5290 non-null   float64\n",
      " 32  rougher.state.floatbank10_e_level           5290 non-null   float64\n",
      " 33  rougher.state.floatbank10_f_air             5290 non-null   float64\n",
      " 34  rougher.state.floatbank10_f_level           5290 non-null   float64\n",
      " 35  secondary_cleaner.state.floatbank2_a_air    5287 non-null   float64\n",
      " 36  secondary_cleaner.state.floatbank2_a_level  5290 non-null   float64\n",
      " 37  secondary_cleaner.state.floatbank2_b_air    5288 non-null   float64\n",
      " 38  secondary_cleaner.state.floatbank2_b_level  5290 non-null   float64\n",
      " 39  secondary_cleaner.state.floatbank3_a_air    5281 non-null   float64\n",
      " 40  secondary_cleaner.state.floatbank3_a_level  5290 non-null   float64\n",
      " 41  secondary_cleaner.state.floatbank3_b_air    5290 non-null   float64\n",
      " 42  secondary_cleaner.state.floatbank3_b_level  5290 non-null   float64\n",
      " 43  secondary_cleaner.state.floatbank4_a_air    5290 non-null   float64\n",
      " 44  secondary_cleaner.state.floatbank4_a_level  5290 non-null   float64\n",
      " 45  secondary_cleaner.state.floatbank4_b_air    5290 non-null   float64\n",
      " 46  secondary_cleaner.state.floatbank4_b_level  5290 non-null   float64\n",
      " 47  secondary_cleaner.state.floatbank5_a_air    5290 non-null   float64\n",
      " 48  secondary_cleaner.state.floatbank5_a_level  5290 non-null   float64\n",
      " 49  secondary_cleaner.state.floatbank5_b_air    5290 non-null   float64\n",
      " 50  secondary_cleaner.state.floatbank5_b_level  5290 non-null   float64\n",
      " 51  secondary_cleaner.state.floatbank6_a_air    5290 non-null   float64\n",
      " 52  secondary_cleaner.state.floatbank6_a_level  5290 non-null   float64\n",
      "dtypes: float64(52), object(1)\n",
      "memory usage: 2.1+ MB\n"
     ]
    }
   ],
   "source": [
    "df_test.info()"
   ]
  },
  {
   "cell_type": "code",
   "execution_count": 66,
   "id": "497e05d7",
   "metadata": {},
   "outputs": [
    {
     "name": "stdout",
     "output_type": "stream",
     "text": [
      "<class 'pandas.core.frame.DataFrame'>\n",
      "RangeIndex: 14149 entries, 0 to 14148\n",
      "Data columns (total 87 columns):\n",
      " #   Column                                              Non-Null Count  Dtype  \n",
      "---  ------                                              --------------  -----  \n",
      " 0   date                                                14149 non-null  object \n",
      " 1   final.output.concentrate_ag                         14148 non-null  float64\n",
      " 2   final.output.concentrate_pb                         14148 non-null  float64\n",
      " 3   final.output.concentrate_sol                        13938 non-null  float64\n",
      " 4   final.output.concentrate_au                         14149 non-null  float64\n",
      " 5   final.output.recovery                               14149 non-null  float64\n",
      " 6   final.output.tail_ag                                14149 non-null  float64\n",
      " 7   final.output.tail_pb                                14049 non-null  float64\n",
      " 8   final.output.tail_sol                               14144 non-null  float64\n",
      " 9   final.output.tail_au                                14149 non-null  float64\n",
      " 10  primary_cleaner.input.sulfate                       14129 non-null  float64\n",
      " 11  primary_cleaner.input.depressant                    14117 non-null  float64\n",
      " 12  primary_cleaner.input.feed_size                     14149 non-null  float64\n",
      " 13  primary_cleaner.input.xanthate                      14049 non-null  float64\n",
      " 14  primary_cleaner.output.concentrate_ag               14149 non-null  float64\n",
      " 15  primary_cleaner.output.concentrate_pb               14063 non-null  float64\n",
      " 16  primary_cleaner.output.concentrate_sol              13863 non-null  float64\n",
      " 17  primary_cleaner.output.concentrate_au               14149 non-null  float64\n",
      " 18  primary_cleaner.output.tail_ag                      14148 non-null  float64\n",
      " 19  primary_cleaner.output.tail_pb                      14134 non-null  float64\n",
      " 20  primary_cleaner.output.tail_sol                     14103 non-null  float64\n",
      " 21  primary_cleaner.output.tail_au                      14149 non-null  float64\n",
      " 22  primary_cleaner.state.floatbank8_a_air              14145 non-null  float64\n",
      " 23  primary_cleaner.state.floatbank8_a_level            14148 non-null  float64\n",
      " 24  primary_cleaner.state.floatbank8_b_air              14145 non-null  float64\n",
      " 25  primary_cleaner.state.floatbank8_b_level            14148 non-null  float64\n",
      " 26  primary_cleaner.state.floatbank8_c_air              14147 non-null  float64\n",
      " 27  primary_cleaner.state.floatbank8_c_level            14148 non-null  float64\n",
      " 28  primary_cleaner.state.floatbank8_d_air              14146 non-null  float64\n",
      " 29  primary_cleaner.state.floatbank8_d_level            14148 non-null  float64\n",
      " 30  rougher.calculation.sulfate_to_au_concentrate       14148 non-null  float64\n",
      " 31  rougher.calculation.floatbank10_sulfate_to_au_feed  14148 non-null  float64\n",
      " 32  rougher.calculation.floatbank11_sulfate_to_au_feed  14148 non-null  float64\n",
      " 33  rougher.calculation.au_pb_ratio                     14149 non-null  float64\n",
      " 34  rougher.input.feed_ag                               14149 non-null  float64\n",
      " 35  rougher.input.feed_pb                               14049 non-null  float64\n",
      " 36  rougher.input.feed_rate                             14141 non-null  float64\n",
      " 37  rougher.input.feed_size                             14005 non-null  float64\n",
      " 38  rougher.input.feed_sol                              14071 non-null  float64\n",
      " 39  rougher.input.feed_au                               14149 non-null  float64\n",
      " 40  rougher.input.floatbank10_sulfate                   14120 non-null  float64\n",
      " 41  rougher.input.floatbank10_xanthate                  14141 non-null  float64\n",
      " 42  rougher.input.floatbank11_sulfate                   14113 non-null  float64\n",
      " 43  rougher.input.floatbank11_xanthate                  13721 non-null  float64\n",
      " 44  rougher.output.concentrate_ag                       14149 non-null  float64\n",
      " 45  rougher.output.concentrate_pb                       14149 non-null  float64\n",
      " 46  rougher.output.concentrate_sol                      14127 non-null  float64\n",
      " 47  rougher.output.concentrate_au                       14149 non-null  float64\n",
      " 48  rougher.output.recovery                             14149 non-null  float64\n",
      " 49  rougher.output.tail_ag                              14148 non-null  float64\n",
      " 50  rougher.output.tail_pb                              14149 non-null  float64\n",
      " 51  rougher.output.tail_sol                             14149 non-null  float64\n",
      " 52  rougher.output.tail_au                              14149 non-null  float64\n",
      " 53  rougher.state.floatbank10_a_air                     14148 non-null  float64\n",
      " 54  rougher.state.floatbank10_a_level                   14148 non-null  float64\n",
      " 55  rougher.state.floatbank10_b_air                     14148 non-null  float64\n",
      " 56  rougher.state.floatbank10_b_level                   14148 non-null  float64\n",
      " 57  rougher.state.floatbank10_c_air                     14148 non-null  float64\n",
      " 58  rougher.state.floatbank10_c_level                   14148 non-null  float64\n",
      " 59  rougher.state.floatbank10_d_air                     14149 non-null  float64\n",
      " 60  rougher.state.floatbank10_d_level                   14149 non-null  float64\n",
      " 61  rougher.state.floatbank10_e_air                     13713 non-null  float64\n",
      " 62  rougher.state.floatbank10_e_level                   14149 non-null  float64\n",
      " 63  rougher.state.floatbank10_f_air                     14149 non-null  float64\n",
      " 64  rougher.state.floatbank10_f_level                   14149 non-null  float64\n",
      " 65  secondary_cleaner.output.tail_ag                    14147 non-null  float64\n",
      " 66  secondary_cleaner.output.tail_pb                    14139 non-null  float64\n",
      " 67  secondary_cleaner.output.tail_sol                   12544 non-null  float64\n",
      " 68  secondary_cleaner.output.tail_au                    14149 non-null  float64\n",
      " 69  secondary_cleaner.state.floatbank2_a_air            13932 non-null  float64\n",
      " 70  secondary_cleaner.state.floatbank2_a_level          14148 non-null  float64\n",
      " 71  secondary_cleaner.state.floatbank2_b_air            14128 non-null  float64\n",
      " 72  secondary_cleaner.state.floatbank2_b_level          14148 non-null  float64\n",
      " 73  secondary_cleaner.state.floatbank3_a_air            14145 non-null  float64\n",
      " 74  secondary_cleaner.state.floatbank3_a_level          14148 non-null  float64\n",
      " 75  secondary_cleaner.state.floatbank3_b_air            14148 non-null  float64\n",
      " 76  secondary_cleaner.state.floatbank3_b_level          14148 non-null  float64\n",
      " 77  secondary_cleaner.state.floatbank4_a_air            14143 non-null  float64\n",
      " 78  secondary_cleaner.state.floatbank4_a_level          14148 non-null  float64\n",
      " 79  secondary_cleaner.state.floatbank4_b_air            14148 non-null  float64\n",
      " 80  secondary_cleaner.state.floatbank4_b_level          14148 non-null  float64\n",
      " 81  secondary_cleaner.state.floatbank5_a_air            14148 non-null  float64\n",
      " 82  secondary_cleaner.state.floatbank5_a_level          14148 non-null  float64\n",
      " 83  secondary_cleaner.state.floatbank5_b_air            14148 non-null  float64\n",
      " 84  secondary_cleaner.state.floatbank5_b_level          14148 non-null  float64\n",
      " 85  secondary_cleaner.state.floatbank6_a_air            14147 non-null  float64\n",
      " 86  secondary_cleaner.state.floatbank6_a_level          14148 non-null  float64\n",
      "dtypes: float64(86), object(1)\n",
      "memory usage: 9.4+ MB\n"
     ]
    }
   ],
   "source": [
    "df_train.info()"
   ]
  },
  {
   "cell_type": "code",
   "execution_count": 67,
   "id": "2ace1955",
   "metadata": {},
   "outputs": [
    {
     "name": "stdout",
     "output_type": "stream",
     "text": [
      "secondary_cleaner.output.tail_sol           1748\n",
      "rougher.input.floatbank11_xanthate           453\n",
      "rougher.state.floatbank10_e_air              436\n",
      "primary_cleaner.output.concentrate_sol       370\n",
      "secondary_cleaner.state.floatbank2_a_air     220\n",
      "final.output.concentrate_sol                 211\n",
      "rougher.input.feed_size                      145\n",
      "primary_cleaner.output.concentrate_pb        116\n",
      "primary_cleaner.input.xanthate               104\n",
      "final.output.tail_pb                         101\n",
      "rougher.input.feed_pb                        100\n",
      "rougher.input.feed_sol                        99\n",
      "primary_cleaner.output.tail_sol               62\n",
      "rougher.input.floatbank11_sulfate             44\n",
      "primary_cleaner.input.depressant              37\n",
      "rougher.input.floatbank10_sulfate             34\n",
      "primary_cleaner.input.sulfate                 24\n",
      "rougher.output.concentrate_sol                23\n",
      "secondary_cleaner.state.floatbank2_b_air      23\n",
      "primary_cleaner.output.tail_pb                21\n",
      "secondary_cleaner.state.floatbank3_a_air      13\n",
      "secondary_cleaner.output.tail_pb              12\n",
      "rougher.input.feed_rate                       11\n",
      "rougher.input.floatbank10_xanthate             8\n",
      "final.output.tail_sol                          6\n",
      "secondary_cleaner.state.floatbank4_a_air       6\n",
      "primary_cleaner.output.tail_ag                 4\n",
      "primary_cleaner.state.floatbank8_b_air         4\n",
      "primary_cleaner.state.floatbank8_a_air         4\n",
      "primary_cleaner.state.floatbank8_d_air         3\n",
      "dtype: int64\n"
     ]
    }
   ],
   "source": [
    "print(df_full.isnull().sum().sort_values(ascending=False).head(30))"
   ]
  },
  {
   "cell_type": "markdown",
   "id": "70288867",
   "metadata": {},
   "source": [
    "### Проверим, что эффективность обогащения рассчитана правильно"
   ]
  },
  {
   "cell_type": "markdown",
   "id": "5f9f3c2f",
   "metadata": {},
   "source": [
    "#### Вычислим её на обучающей выборке для признака rougher.output.recovery."
   ]
  },
  {
   "cell_type": "markdown",
   "id": "f425ff7a",
   "metadata": {},
   "source": [
    "* C — доля золота в концентрате после флотации/очистки; rougher.output.concentrate_au\n",
    "* F — доля золота в сырье/концентрате до флотации/очистки; rougher.input.feed_au\n",
    "* T — доля золота в отвальных хвостах после флотации/очистки. rougher.output.tail_au "
   ]
  },
  {
   "cell_type": "code",
   "execution_count": 68,
   "id": "1a686839",
   "metadata": {},
   "outputs": [],
   "source": [
    "C_train = df_train['rougher.output.concentrate_au']\n",
    "F_train = df_train['rougher.input.feed_au']\n",
    "T_train = df_train['rougher.output.tail_au']\n",
    "\n",
    "recovery_train = df_train['rougher.output.recovery']"
   ]
  },
  {
   "cell_type": "code",
   "execution_count": 69,
   "id": "ac12e611",
   "metadata": {},
   "outputs": [],
   "source": [
    "def recovery(C, F, T):\n",
    "    result = (C*(F-T))/(F*(C-T))*100\n",
    "    return result"
   ]
  },
  {
   "cell_type": "code",
   "execution_count": 70,
   "id": "7b653c5c",
   "metadata": {},
   "outputs": [
    {
     "name": "stdout",
     "output_type": "stream",
     "text": [
      "85.29946209869779\n",
      "85.2994620986978\n"
     ]
    }
   ],
   "source": [
    "print(recovery(C_train, F_train, T_train).median())\n",
    "print(recovery_train.median())"
   ]
  },
  {
   "cell_type": "markdown",
   "id": "89546b75",
   "metadata": {},
   "source": [
    "Вывод: эффективность обогащения рассчитана правильно"
   ]
  },
  {
   "cell_type": "markdown",
   "id": "d9f527f3",
   "metadata": {},
   "source": [
    "#### 1.2.2 Найдём MAE между вашими расчётами и значением признака. Опишем выводы."
   ]
  },
  {
   "cell_type": "code",
   "execution_count": 71,
   "id": "5f34834e",
   "metadata": {},
   "outputs": [
    {
     "name": "stdout",
     "output_type": "stream",
     "text": [
      "9.73512347450521e-15\n"
     ]
    }
   ],
   "source": [
    "print(mean_absolute_error(recovery_train, recovery(C_train, F_train, T_train)))"
   ]
  },
  {
   "cell_type": "markdown",
   "id": "526fe4c6",
   "metadata": {},
   "source": [
    "Вывод: средняя абсолютная ошибка (MAE) равна 9.73512347450521e-15"
   ]
  },
  {
   "cell_type": "markdown",
   "id": "b06bd002",
   "metadata": {},
   "source": [
    "### Проанализируем признаки, недоступные в тестовой выборке."
   ]
  },
  {
   "cell_type": "markdown",
   "id": "e5c0450d",
   "metadata": {},
   "source": [
    "Что это за параметры? К какому типу относятся?"
   ]
  },
  {
   "cell_type": "code",
   "execution_count": 72,
   "id": "77015732",
   "metadata": {},
   "outputs": [
    {
     "name": "stdout",
     "output_type": "stream",
     "text": [
      "Количество признаков в полной выборке (19439, 87)\n",
      "Количество признаков в тестовой выборке (5290, 53)\n",
      "Количество признаков в обучающей выборке (14149, 87)\n",
      "---------------------------------------------\n",
      "Количество признаков отсутствующих в тестовой выборке: 34\n"
     ]
    }
   ],
   "source": [
    "print('Количество признаков в полной выборке', df_full.shape)\n",
    "print('Количество признаков в тестовой выборке',df_test.shape)\n",
    "print('Количество признаков в обучающей выборке',df_train.shape)\n",
    "print('-'*45)\n",
    "print('Количество признаков отсутствующих в тестовой выборке:', 87-53)"
   ]
  },
  {
   "cell_type": "code",
   "execution_count": 73,
   "id": "07710d91",
   "metadata": {},
   "outputs": [
    {
     "name": "stdout",
     "output_type": "stream",
     "text": [
      "Признаки, недоступные в тестовой выборке\n"
     ]
    },
    {
     "data": {
      "text/plain": [
       "{'final.output.concentrate_ag',\n",
       " 'final.output.concentrate_au',\n",
       " 'final.output.concentrate_pb',\n",
       " 'final.output.concentrate_sol',\n",
       " 'final.output.recovery',\n",
       " 'final.output.tail_ag',\n",
       " 'final.output.tail_au',\n",
       " 'final.output.tail_pb',\n",
       " 'final.output.tail_sol',\n",
       " 'primary_cleaner.output.concentrate_ag',\n",
       " 'primary_cleaner.output.concentrate_au',\n",
       " 'primary_cleaner.output.concentrate_pb',\n",
       " 'primary_cleaner.output.concentrate_sol',\n",
       " 'primary_cleaner.output.tail_ag',\n",
       " 'primary_cleaner.output.tail_au',\n",
       " 'primary_cleaner.output.tail_pb',\n",
       " 'primary_cleaner.output.tail_sol',\n",
       " 'rougher.calculation.au_pb_ratio',\n",
       " 'rougher.calculation.floatbank10_sulfate_to_au_feed',\n",
       " 'rougher.calculation.floatbank11_sulfate_to_au_feed',\n",
       " 'rougher.calculation.sulfate_to_au_concentrate',\n",
       " 'rougher.output.concentrate_ag',\n",
       " 'rougher.output.concentrate_au',\n",
       " 'rougher.output.concentrate_pb',\n",
       " 'rougher.output.concentrate_sol',\n",
       " 'rougher.output.recovery',\n",
       " 'rougher.output.tail_ag',\n",
       " 'rougher.output.tail_au',\n",
       " 'rougher.output.tail_pb',\n",
       " 'rougher.output.tail_sol',\n",
       " 'secondary_cleaner.output.tail_ag',\n",
       " 'secondary_cleaner.output.tail_au',\n",
       " 'secondary_cleaner.output.tail_pb',\n",
       " 'secondary_cleaner.output.tail_sol'}"
      ]
     },
     "execution_count": 73,
     "metadata": {},
     "output_type": "execute_result"
    }
   ],
   "source": [
    "print('Признаки, недоступные в тестовой выборке')\n",
    "set(df_train.columns) - set(df_test.columns)"
   ]
  },
  {
   "cell_type": "markdown",
   "id": "921c5f80",
   "metadata": {},
   "source": [
    "Предоположу что недостает признаком, которые вычисляются на более поздних этапах. Но так же и не достает целевых признаков ('rougher.output.recovery','final.output.recovery')"
   ]
  },
  {
   "cell_type": "markdown",
   "id": "453d40af",
   "metadata": {},
   "source": [
    "### Проведем предобработку данных"
   ]
  },
  {
   "cell_type": "code",
   "execution_count": 74,
   "id": "9834c9d2",
   "metadata": {},
   "outputs": [],
   "source": [
    "df_full['date'] = pd.to_datetime(df_full['date'], format='%Y-%m-%d %H:%M:%S')\n",
    "df_test['date'] = pd.to_datetime(df_test['date'], format='%Y-%m-%d %H:%M:%S')\n",
    "df_train['date'] = pd.to_datetime(df_train['date'], format='%Y-%m-%d %H:%M:%S')\n",
    "# изменим формат даты"
   ]
  },
  {
   "cell_type": "code",
   "execution_count": 75,
   "id": "0229a653",
   "metadata": {},
   "outputs": [
    {
     "name": "stdout",
     "output_type": "stream",
     "text": [
      "Количество признаков в тестовой выборке (5290, 55)\n"
     ]
    }
   ],
   "source": [
    "df_test = df_test.merge(df_full.loc[:, ['date','rougher.output.recovery','final.output.recovery']], on='date')\n",
    "#перенесем целевые признаки из df_full\n",
    "print('Количество признаков в тестовой выборке',df_test.shape)"
   ]
  },
  {
   "cell_type": "code",
   "execution_count": 76,
   "id": "0da47209",
   "metadata": {},
   "outputs": [],
   "source": [
    "df_train = df_train.ffill(axis=0)\n",
    "df_test = df_test.ffill(axis=0)\n",
    "df_full = df_full.ffill(axis=0)\n",
    "#заполним пропущенные значения функцией ffill"
   ]
  },
  {
   "cell_type": "markdown",
   "id": "2f701601",
   "metadata": {},
   "source": [
    "## Проведем исследовательский анализ данных"
   ]
  },
  {
   "cell_type": "markdown",
   "id": "db5c1def",
   "metadata": {},
   "source": [
    "### Посмотрим, как меняется концентрация металлов (Au, Ag, Pb) на различных этапах очистки"
   ]
  },
  {
   "cell_type": "code",
   "execution_count": 77,
   "id": "4e2eeca9",
   "metadata": {},
   "outputs": [
    {
     "data": {
      "image/png": "[encoded data removed]",
      "text/plain": [
       "<Figure size 864x288 with 1 Axes>"
      ]
     },
     "metadata": {
      "needs_background": "light"
     },
     "output_type": "display_data"
    }
   ],
   "source": [
    "plt.figure(figsize=[12,4])\n",
    "plt.hist(df_train['final.output.concentrate_au'], bins=200, label = 'final.output', alpha=0.5)\n",
    "plt.hist(df_train['primary_cleaner.output.concentrate_au'], bins=200, label = 'primary_cleaner.output', alpha=0.5)\n",
    "plt.hist(df_train['rougher.output.concentrate_au'], bins=200, label = 'rougher.output', alpha=0.5)\n",
    "\n",
    "plt.xlim([0, 60])\n",
    "plt.ylim([0, 1500])\n",
    "plt.xlabel(\"Концентрация золота\")\n",
    "plt.ylabel(\"Результаты\")\n",
    "plt.title(\"Анализ распределения концентрации золота\")\n",
    "plt.legend(loc='upper right', fontsize='x-large')\n",
    "plt.show()"
   ]
  },
  {
   "cell_type": "markdown",
   "id": "956586f2",
   "metadata": {},
   "source": [
    "Концентрация золота повышается с кажым этапом"
   ]
  },
  {
   "cell_type": "code",
   "execution_count": 78,
   "id": "dd1d2755",
   "metadata": {},
   "outputs": [],
   "source": [
    "df_train = df_train[\n",
    "    (df_train['final.output.concentrate_au'] != 0) & \n",
    "    (df_train['primary_cleaner.output.concentrate_au'] != 0) & \n",
    "    (df_train['rougher.output.concentrate_au'] != 0)]"
   ]
  },
  {
   "cell_type": "markdown",
   "id": "2811a566",
   "metadata": {},
   "source": [
    "Сразу удалим аномалии"
   ]
  },
  {
   "cell_type": "code",
   "execution_count": 79,
   "id": "33017891",
   "metadata": {},
   "outputs": [
    {
     "data": {
      "image/png": "[encoded data removed]",
      "text/plain": [
       "<Figure size 864x288 with 1 Axes>"
      ]
     },
     "metadata": {
      "needs_background": "light"
     },
     "output_type": "display_data"
    }
   ],
   "source": [
    "plt.figure(figsize=[12,4])\n",
    "\n",
    "plt.hist(df_train['final.output.concentrate_ag'], bins=200, label = 'final.output', alpha=0.5)\n",
    "plt.hist(df_train['primary_cleaner.output.concentrate_ag'], bins=200, label = 'primary_cleaner.output', alpha=0.5)\n",
    "plt.hist(df_train['rougher.output.concentrate_ag'], bins=200, label = 'rougher.output', alpha=0.5)\n",
    "plt.xlim([0, 20])\n",
    "plt.ylim([0, 1000])\n",
    "plt.xlabel(\"Концентрация золота\")\n",
    "plt.ylabel(\"Результаты\")\n",
    "plt.title(\"Анализ распределения концентрации серебра\")\n",
    "plt.legend(loc='upper right', fontsize='x-large')\n",
    "plt.show()"
   ]
  },
  {
   "cell_type": "markdown",
   "id": "3cfd0522",
   "metadata": {},
   "source": [
    "Концентрация серебра понижается"
   ]
  },
  {
   "cell_type": "code",
   "execution_count": 80,
   "id": "adae5b03",
   "metadata": {},
   "outputs": [
    {
     "data": {
      "image/png": "[encoded data removed]",
      "text/plain": [
       "<Figure size 864x288 with 1 Axes>"
      ]
     },
     "metadata": {
      "needs_background": "light"
     },
     "output_type": "display_data"
    }
   ],
   "source": [
    "plt.figure(figsize=[12,4])\n",
    "plt.hist(df_train['final.output.concentrate_pb'], bins=200, label = 'final.output', alpha=0.5)\n",
    "plt.hist(df_train['primary_cleaner.output.concentrate_pb'], bins=200, label = 'primary_cleaner.output', alpha=0.5)\n",
    "plt.hist(df_train['rougher.output.concentrate_pb'], bins=200, label = 'rougher.output', alpha=0.5)\n",
    "plt.xlim([0, 20])\n",
    "plt.ylim([0, 1000])\n",
    "plt.xlabel(\"Концентрация золота\")\n",
    "plt.ylabel(\"Результаты\")\n",
    "plt.title(\"Анализ распределения концентрации свинца\")\n",
    "plt.legend(loc='upper right', fontsize='x-large')\n",
    "plt.show()"
   ]
  },
  {
   "cell_type": "markdown",
   "id": "ce18c320",
   "metadata": {},
   "source": [
    "Концентрация свинца сначала увеличивается на этапе флотации, после чего остается примерно на одном уровне."
   ]
  },
  {
   "cell_type": "markdown",
   "id": "88cb19da",
   "metadata": {},
   "source": [
    "### Сравним распределения размеров гранул сырья на обучающей и тестовой выборках"
   ]
  },
  {
   "cell_type": "code",
   "execution_count": 81,
   "id": "79a57616",
   "metadata": {},
   "outputs": [
    {
     "data": {
      "image/png": "[encoded data removed]",
      "text/plain": [
       "<Figure size 864x288 with 1 Axes>"
      ]
     },
     "metadata": {
      "needs_background": "light"
     },
     "output_type": "display_data"
    }
   ],
   "source": [
    "plt.figure(figsize=[12,4])\n",
    "plt.hist(df_test['rougher.input.feed_size'], bins=200, label = 'Test rougher.input.feed_size', alpha=0.5)\n",
    "plt.hist(df_train['rougher.input.feed_size'], bins=200, label = 'Train rougher.input.feed_size', alpha=0.5)\n",
    "plt.xlim([0, 150])\n",
    "plt.ylim([0, 3000])\n",
    "plt.xlabel(\"Размер\")\n",
    "plt.ylabel(\"Количество\")\n",
    "plt.title(\"Распределение гранул сырья на тестовой и обучающей выборках\")\n",
    "plt.legend(loc='upper right', fontsize='x-large')\n",
    "plt.show()"
   ]
  },
  {
   "cell_type": "markdown",
   "id": "86c656de",
   "metadata": {},
   "source": [
    "Распределение гранул сырья на тестовой и обущающей выборках со смещением вправо"
   ]
  },
  {
   "cell_type": "code",
   "execution_count": 82,
   "id": "52a6b24b",
   "metadata": {},
   "outputs": [
    {
     "data": {
      "text/plain": [
       "285660"
      ]
     },
     "execution_count": 82,
     "metadata": {},
     "output_type": "execute_result"
    }
   ],
   "source": [
    "df_test.shape\n",
    "5290*54"
   ]
  },
  {
   "cell_type": "code",
   "execution_count": 83,
   "id": "f6fd6041",
   "metadata": {},
   "outputs": [
    {
     "data": {
      "image/png": "[encoded data removed]",
      "text/plain": [
       "<Figure size 864x288 with 1 Axes>"
      ]
     },
     "metadata": {
      "needs_background": "light"
     },
     "output_type": "display_data"
    }
   ],
   "source": [
    "plt.figure(figsize=[12,4])\n",
    "plt.hist(df_test['primary_cleaner.input.feed_size'], \n",
    "         bins=200, \n",
    "         label = 'Test primary_cleaner.input.feed_size',\n",
    "         density=True,\n",
    "         alpha=0.5)\n",
    "plt.hist(df_train['primary_cleaner.input.feed_size'], \n",
    "         bins=200, \n",
    "         label = 'Train primary_cleaner.input.feed_size',\n",
    "         density=True,\n",
    "         alpha=0.5)\n",
    "plt.xlim([0, 15])\n",
    "plt.ylim([0, 1])\n",
    "plt.xlabel(\"Размер\")\n",
    "plt.ylabel(\"Количество\")\n",
    "plt.title(\"Распределение гранул сырья перед первичной очисткой\")\n",
    "plt.legend(loc='upper right', fontsize='x-large')\n",
    "plt.show()"
   ]
  },
  {
   "cell_type": "markdown",
   "id": "e8d5bc30",
   "metadata": {},
   "source": [
    "Значения находятся в одном диапозоне, значимых различий между распределениями нет"
   ]
  },
  {
   "cell_type": "code",
   "execution_count": 84,
   "id": "c827b85a",
   "metadata": {},
   "outputs": [],
   "source": [
    "final_output_concentrate_sum = (df_train['final.output.concentrate_au'] + \n",
    "                                df_train['final.output.concentrate_ag'] + \n",
    "                                df_train['final.output.concentrate_pb'] +\n",
    "                                df_train['final.output.concentrate_sol'])\n",
    "primary_cleaner_output_concentrate_sum = (df_train['primary_cleaner.output.concentrate_au'] + \n",
    "                                          df_train['primary_cleaner.output.concentrate_ag'] + \n",
    "                                          df_train['primary_cleaner.output.concentrate_pb'] +\n",
    "                                          df_train['primary_cleaner.output.concentrate_sol'])\n",
    "rougher_output_concentrate_sum = (df_train['rougher.output.concentrate_au'] + \n",
    "                                  df_train['rougher.output.concentrate_ag'] + \n",
    "                                  df_train['rougher.output.concentrate_pb'] +\n",
    "                                  df_train['rougher.output.concentrate_sol'])"
   ]
  },
  {
   "cell_type": "code",
   "execution_count": 85,
   "id": "a5005281",
   "metadata": {
    "scrolled": true
   },
   "outputs": [
    {
     "data": {
      "image/png": "[encoded data removed]",
      "text/plain": [
       "<Figure size 864x288 with 1 Axes>"
      ]
     },
     "metadata": {
      "needs_background": "light"
     },
     "output_type": "display_data"
    }
   ],
   "source": [
    "plt.figure(figsize=[12,4])\n",
    "plt.hist(final_output_concentrate_sum, bins=200, label = 'final_output', alpha=0.5)\n",
    "plt.hist(primary_cleaner_output_concentrate_sum, bins=200, label = 'primary_cleaner_output', alpha=0.5)\n",
    "plt.hist(rougher_output_concentrate_sum, bins=200, label = 'rougher_output', alpha=0.5)\n",
    "plt.xlim([30, 100])\n",
    "plt.ylim([0, 1100])\n",
    "plt.xlabel(\"Концентрация\")\n",
    "plt.ylabel(\"Количество\")\n",
    "plt.legend(loc='upper right', fontsize='x-large')\n",
    "plt.title(\"Распределения концентраций на разных этапах очистки\")\n",
    "plt.show()"
   ]
  },
  {
   "cell_type": "markdown",
   "id": "62c1905c",
   "metadata": {},
   "source": [
    "Концентрация веществ увеличивается к финальному этапу"
   ]
  },
  {
   "cell_type": "markdown",
   "id": "aac63839",
   "metadata": {},
   "source": [
    "### Напишем функцию для вычисления итоговой sMAPE"
   ]
  },
  {
   "cell_type": "code",
   "execution_count": 86,
   "id": "a433831e",
   "metadata": {},
   "outputs": [],
   "source": [
    "def smape(target, pred):\n",
    "    smape = (1/len(target))*np.sum((np.abs(target - pred))/( (np.abs(target)+np.abs(pred))/2))*100\n",
    "    return smape"
   ]
  },
  {
   "cell_type": "code",
   "execution_count": 87,
   "id": "42e11e95",
   "metadata": {},
   "outputs": [],
   "source": [
    "smape_scorer = make_scorer(smape, greater_is_better = False)"
   ]
  },
  {
   "cell_type": "markdown",
   "id": "b6009ccc",
   "metadata": {},
   "source": [
    "## Построим и обучить модель."
   ]
  },
  {
   "cell_type": "markdown",
   "id": "e4550825",
   "metadata": {},
   "source": [
    "Подготовим признаки"
   ]
  },
  {
   "cell_type": "code",
   "execution_count": 88,
   "id": "9ef9bdb1",
   "metadata": {},
   "outputs": [],
   "source": [
    "extra_sign = set(df_train.columns) - set(df_test.columns)\n",
    "extra_sign_good = extra_sign - set(['rougher.output.recovery','final.output.recovery'])\n",
    "df_train = df_train.drop(columns=extra_sign_good, axis=1)\n",
    "#удалим признаки, отсутсвующие в тестовой выборке"
   ]
  },
  {
   "cell_type": "code",
   "execution_count": 89,
   "id": "3d4af5a7",
   "metadata": {},
   "outputs": [],
   "source": [
    "df_train = df_train.drop('date', axis=1)\n",
    "df_test = df_test.drop('date', axis=1)\n",
    "# удалим столбцы с датой"
   ]
  },
  {
   "cell_type": "code",
   "execution_count": 90,
   "id": "c97c0096",
   "metadata": {},
   "outputs": [
    {
     "name": "stdout",
     "output_type": "stream",
     "text": [
      "(54,)\n",
      "(54,)\n"
     ]
    }
   ],
   "source": [
    "print(df_train.columns.shape)\n",
    "print(df_test.columns.shape)"
   ]
  },
  {
   "cell_type": "code",
   "execution_count": 91,
   "id": "bc8abace",
   "metadata": {},
   "outputs": [],
   "source": [
    "features_train = df_train.drop(['rougher.output.recovery','final.output.recovery'], axis=1)\n",
    "target_train = df_train['rougher.output.recovery']\n",
    "target_train_final = df_train['final.output.recovery']"
   ]
  },
  {
   "cell_type": "markdown",
   "id": "24114f0d",
   "metadata": {},
   "source": [
    "### LinearRegression"
   ]
  },
  {
   "cell_type": "code",
   "execution_count": 92,
   "id": "09cf0507",
   "metadata": {},
   "outputs": [
    {
     "name": "stdout",
     "output_type": "stream",
     "text": [
      "CPU times: user 850 ms, sys: 1.97 s, total: 2.82 s\n",
      "Wall time: 2.83 s\n"
     ]
    }
   ],
   "source": [
    "%%time\n",
    "model_lr = LinearRegression()\n",
    "smape_rougher = cross_val_score(model_lr, features_train, target_train, scoring=smape_scorer, cv=5)\n",
    "smape_rougher_final_lr = smape_rougher.mean()\n",
    "\n",
    "model_lr_final = LinearRegression()\n",
    "smape_final = cross_val_score(model_lr_final, features_train, target_train_final, scoring=smape_scorer, cv=5)\n",
    "final_smape_final_lr = smape_final.mean()"
   ]
  },
  {
   "cell_type": "code",
   "execution_count": 93,
   "id": "669443c3",
   "metadata": {},
   "outputs": [],
   "source": [
    "result_smape_lr = (0.25*smape_rougher_final_lr + 0.75*final_smape_final_lr)*(-1)"
   ]
  },
  {
   "cell_type": "markdown",
   "id": "4ea1cc2d",
   "metadata": {},
   "source": [
    "### DecisionTreeRegressor"
   ]
  },
  {
   "cell_type": "code",
   "execution_count": 94,
   "id": "b1958157",
   "metadata": {},
   "outputs": [
    {
     "name": "stdout",
     "output_type": "stream",
     "text": [
      "CPU times: user 18.6 s, sys: 27.6 ms, total: 18.6 s\n",
      "Wall time: 19.5 s\n"
     ]
    }
   ],
   "source": [
    "%%time\n",
    "for n in range(1, 10, 1):\n",
    "    model_dtr = DecisionTreeRegressor(max_depth=4, random_state=42)\n",
    "    smape_rougher = cross_val_score(model_dtr, features_train, target_train, scoring=smape_scorer,cv=5)\n",
    "    final_smape_rougher_dtr = smape_rougher.mean()\n",
    "\n",
    "    model_dtr_final = DecisionTreeRegressor(max_depth=4, random_state=42)\n",
    "    smape_final = cross_val_score(model_dtr_final, features_train, target_train_final, scoring=smape_scorer, cv=5)\n",
    "    final_smape_final_dtr = smape_final.mean()"
   ]
  },
  {
   "cell_type": "code",
   "execution_count": 120,
   "id": "dbd2c340",
   "metadata": {},
   "outputs": [
    {
     "data": {
      "text/plain": [
       "-7.313442159829698"
      ]
     },
     "execution_count": 120,
     "metadata": {},
     "output_type": "execute_result"
    }
   ],
   "source": [
    "final_smape_rougher_dtr"
   ]
  },
  {
   "cell_type": "code",
   "execution_count": 121,
   "id": "b96ad180",
   "metadata": {},
   "outputs": [
    {
     "data": {
      "text/plain": [
       "-9.728777764210848"
      ]
     },
     "execution_count": 121,
     "metadata": {},
     "output_type": "execute_result"
    }
   ],
   "source": [
    "final_smape_final_dtr"
   ]
  },
  {
   "cell_type": "code",
   "execution_count": 95,
   "id": "cf9c94a4",
   "metadata": {},
   "outputs": [],
   "source": [
    "result_smape_dtr = (0.25*final_smape_rougher_dtr + 0.75*final_smape_final_dtr)*(-1)\n"
   ]
  },
  {
   "cell_type": "markdown",
   "id": "2ad4d1d8",
   "metadata": {},
   "source": [
    "### RandomForestRegressor"
   ]
  },
  {
   "cell_type": "code",
   "execution_count": 119,
   "id": "7d090bc9",
   "metadata": {},
   "outputs": [
    {
     "name": "stdout",
     "output_type": "stream",
     "text": [
      "RandomForestRegressor(max_depth=4, n_estimators=32, random_state=42)\n",
      "sMAPE: 6.517982189823019\n",
      "CPU times: user 3min 19s, sys: 1.15 s, total: 3min 20s\n",
      "Wall time: 3min 20s\n"
     ]
    }
   ],
   "source": [
    "%%time\n",
    "forest_rougher = RandomForestRegressor(random_state=42)\n",
    "parametrs = {'max_depth': range(2,10,2),'n_estimators': range(2,36,10)}\n",
    "grid = GridSearchCV(forest_rougher, parametrs, scoring=smape_scorer, cv=5, n_jobs=1)\n",
    "grid.fit(features_train, target_train)\n",
    "best_score = grid.best_score_\n",
    "print(grid.best_estimator_)\n",
    "print('sMAPE:', best_score)"
   ]
  },
  {
   "cell_type": "code",
   "execution_count": 109,
   "id": "b86c2577",
   "metadata": {},
   "outputs": [
    {
     "name": "stdout",
     "output_type": "stream",
     "text": [
      "RandomForestRegressor(max_depth=4, n_estimators=22, random_state=42)\n",
      "sMAPE: -9.008772391516203\n",
      "CPU times: user 3min 18s, sys: 672 ms, total: 3min 18s\n",
      "Wall time: 3min 18s\n"
     ]
    }
   ],
   "source": [
    "%%time\n",
    "forest_final = RandomForestRegressor(random_state=42)\n",
    "parametrs = {'max_depth': range(2,10,2),'n_estimators': range(2,36,10)}\n",
    "grid_final = GridSearchCV(forest_final, parametrs, scoring=smape_scorer, cv=5, n_jobs=1)\n",
    "grid_final.fit(features_train, target_train_final)\n",
    "best_score_final = grid_final.best_score_\n",
    "print(grid_final.best_estimator_)\n",
    "print('sMAPE:', best_score_final)"
   ]
  },
  {
   "cell_type": "code",
   "execution_count": 112,
   "id": "4d3e1170",
   "metadata": {},
   "outputs": [],
   "source": [
    "result_smape_rfr = (0.25*best_score + 0.75*best_score_final)*(-1)"
   ]
  },
  {
   "cell_type": "code",
   "execution_count": 113,
   "id": "c3c2e7bc",
   "metadata": {},
   "outputs": [
    {
     "name": "stdout",
     "output_type": "stream",
     "text": [
      "Модель linearRegressor c результатом sMAPE: 10.029323387636326\n",
      "Модель DecisionTreeRegressor c результатом sMAPE: 9.124943863115561\n",
      "Модель RandomForestRegressor c результатом sMAPE: 11.194690955056817\n"
     ]
    }
   ],
   "source": [
    "print('Модель linearRegressor c результатом sMAPE:', result_smape_lr)\n",
    "print('Модель DecisionTreeRegressor c результатом sMAPE:', result_smape_dtr)\n",
    "print('Модель RandomForestRegressor c результатом sMAPE:', result_smape_rfr)"
   ]
  },
  {
   "cell_type": "markdown",
   "id": "b1179f8e",
   "metadata": {},
   "source": [
    "Лучший результат показала модель RandomForestRegressor"
   ]
  },
  {
   "cell_type": "markdown",
   "id": "de91fe35",
   "metadata": {},
   "source": [
    "### 3.4 Проверим лучшую модель на тестовой выборке"
   ]
  },
  {
   "cell_type": "code",
   "execution_count": 114,
   "id": "37e0cf04",
   "metadata": {},
   "outputs": [],
   "source": [
    "features_test= df_test.drop(['rougher.output.recovery','final.output.recovery'], axis=1)\n",
    "target_test = df_test['rougher.output.recovery']\n",
    "target_test_final = df_test['final.output.recovery']"
   ]
  },
  {
   "cell_type": "code",
   "execution_count": 115,
   "id": "4420c949",
   "metadata": {},
   "outputs": [],
   "source": [
    "model_rfr = RandomForestRegressor(n_estimators=4, max_depth=32, random_state=42)\n",
    "model_rfr.fit(features_train, target_train)\n",
    "prediction = model_rfr.predict(features_test)\n",
    "\n",
    "model_rfr_final = RandomForestRegressor(n_estimators=4, max_depth=32, random_state=42)\n",
    "model_rfr_final.fit(features_train, target_train_final)\n",
    "prediction_final = model_rfr_final.predict(features_test)\n",
    "        \n",
    "smape_test = smape(target_test, prediction)\n",
    "smape_test_final = smape(target_test_final, prediction_final)\n",
    "result_smape_rfr_test = (0.25*smape_test + 0.75*smape_test_final)"
   ]
  },
  {
   "cell_type": "code",
   "execution_count": 116,
   "id": "b7867b1c",
   "metadata": {
    "scrolled": false
   },
   "outputs": [
    {
     "name": "stdout",
     "output_type": "stream",
     "text": [
      "Модель RandomForestRegressor на тестовой выборке c результатом sMAPE: 10.336761482910687\n"
     ]
    }
   ],
   "source": [
    "print('Модель RandomForestRegressor на тестовой выборке c результатом sMAPE:', result_smape_rfr_test)"
   ]
  },
  {
   "cell_type": "markdown",
   "id": "e8de2a99",
   "metadata": {},
   "source": [
    "### 3.5 Проверим модель на адекватность"
   ]
  },
  {
   "cell_type": "code",
   "execution_count": 117,
   "id": "6549020d",
   "metadata": {},
   "outputs": [],
   "source": [
    "dummy_rougher = DummyRegressor(strategy=\"mean\")\n",
    "dummy_final = DummyRegressor(strategy=\"mean\")\n",
    "\n",
    "dummy_rougher.fit(features_train, target_train)\n",
    "dummy_final.fit(features_train, target_train_final)\n",
    "\n",
    "dummy_prediction = dummy_rougher.predict(features_test)\n",
    "dummy_prediction_final = dummy_final.predict(features_test)\n",
    "\n",
    "smape_const = smape(target_test, dummy_prediction)\n",
    "smape_const_final = smape(target_test_final, dummy_prediction_final)\n",
    "\n",
    "result_smape_const = (0.25*smape_const + 0.75*smape_const_final)"
   ]
  },
  {
   "cell_type": "code",
   "execution_count": 118,
   "id": "7eccf593",
   "metadata": {
    "scrolled": true
   },
   "outputs": [
    {
     "name": "stdout",
     "output_type": "stream",
     "text": [
      "sMAPE для константной модели: 9.831066377059802\n"
     ]
    }
   ],
   "source": [
    "print('sMAPE для константной модели:', result_smape_const)"
   ]
  },
  {
   "cell_type": "markdown",
   "id": "92923186",
   "metadata": {},
   "source": [
    "# Вывод:\n",
    "\n",
    "1. Подготовили данные;\n",
    "   * Открыли файлы и изучили их\n",
    "   * Проверили, что эффективность обогащения рассчитана правильно.\n",
    "     * Вычислили её на обучающей выборке для признака rougher.output.recovery.\n",
    "     * Нашли MAE между расчётами и значением признака. Вывод: эффективность обогащения рассчитана правильно\n",
    "   * Проанализировали признаки, недоступные в тестовой выборке.\n",
    "     * Предоположу что недостает признаком, которые вычисляются на более поздних этапах. Но так же и не достает целевых признаков ('rougher.output.recovery','final.output.recovery')\n",
    "   * Провели предобработку данных: \n",
    "     * Изменили формат даты\n",
    "     * Заполнили пропущенные значения функцией ffill\n",
    "2. Провели исследовательский анализ данных;\n",
    "   * Концентрация золота повышается с кажым этапом \n",
    "   * Концентрация серебра понижается\n",
    "   * Концентрация свинца сначала увеличивается на этапе флотации, после чего остается примерно на одном уровне.\n",
    "   * Распределение гранул сырья на тестовой и обущающей выборках со смещением вправо\n",
    "   * Распределение гранул сырья перед первичной очисткой находятся в одном диапозоне, значимых различий между распределениями нет\n",
    "   * Написали функцию для вычисления итоговой sMAPE\n",
    "3. Построим и обучить модель.\n",
    "   * Модель linearRegressor c результатом sMAPE: 10.02932338763633\n",
    "   * Модель DecisionTreeRegressor c результатом sMAPE: 7.313442159829698\n",
    "   * Модель RandomForestRegressor c результатом sMAPE: 6.517982189823019\n",
    "   \n",
    "* Лучшая модель - RandomForestRegressor\n",
    "* sMAPE на тестовой выборке: 9.08\n",
    "* sMAPE на константной выборке 9.83"
   ]
  }
 ],
 "metadata": {
  "ExecuteTimeLog": [
   {
    "duration": 3450,
    "start_time": "2023-01-14T15:45:06.376Z"
   },
   {
    "duration": 911,
    "start_time": "2023-01-14T15:45:09.827Z"
   },
   {
    "duration": 20,
    "start_time": "2023-01-14T15:45:10.740Z"
   },
   {
    "duration": 13,
    "start_time": "2023-01-14T15:45:10.762Z"
   },
   {
    "duration": 16,
    "start_time": "2023-01-14T15:45:10.776Z"
   },
   {
    "duration": 28,
    "start_time": "2023-01-14T15:45:10.794Z"
   },
   {
    "duration": 4,
    "start_time": "2023-01-14T15:45:10.824Z"
   },
   {
    "duration": 10,
    "start_time": "2023-01-14T15:45:10.830Z"
   },
   {
    "duration": 15,
    "start_time": "2023-01-14T15:45:10.842Z"
   },
   {
    "duration": 5,
    "start_time": "2023-01-14T15:45:10.860Z"
   },
   {
    "duration": 9,
    "start_time": "2023-01-14T15:45:10.867Z"
   },
   {
    "duration": 10,
    "start_time": "2023-01-14T15:45:10.877Z"
   },
   {
    "duration": 33,
    "start_time": "2023-01-14T15:45:10.889Z"
   },
   {
    "duration": 11,
    "start_time": "2023-01-14T15:45:10.924Z"
   },
   {
    "duration": 25,
    "start_time": "2023-01-14T15:45:10.936Z"
   },
   {
    "duration": 962,
    "start_time": "2023-01-14T15:45:10.963Z"
   },
   {
    "duration": 11,
    "start_time": "2023-01-14T15:45:11.926Z"
   },
   {
    "duration": 850,
    "start_time": "2023-01-14T15:45:11.939Z"
   },
   {
    "duration": 986,
    "start_time": "2023-01-14T15:45:12.791Z"
   },
   {
    "duration": 700,
    "start_time": "2023-01-14T15:45:13.779Z"
   },
   {
    "duration": 606,
    "start_time": "2023-01-14T15:45:14.481Z"
   },
   {
    "duration": 6,
    "start_time": "2023-01-14T15:45:15.089Z"
   },
   {
    "duration": 1016,
    "start_time": "2023-01-14T15:45:15.096Z"
   },
   {
    "duration": 9,
    "start_time": "2023-01-14T15:45:16.113Z"
   },
   {
    "duration": 7,
    "start_time": "2023-01-14T15:45:16.124Z"
   },
   {
    "duration": 11,
    "start_time": "2023-01-14T15:45:16.133Z"
   },
   {
    "duration": 20,
    "start_time": "2023-01-14T15:45:16.146Z"
   },
   {
    "duration": 6,
    "start_time": "2023-01-14T15:45:16.169Z"
   },
   {
    "duration": 8,
    "start_time": "2023-01-14T15:45:16.177Z"
   },
   {
    "duration": 3339,
    "start_time": "2023-01-14T15:45:16.188Z"
   },
   {
    "duration": 5,
    "start_time": "2023-01-14T15:45:19.530Z"
   },
   {
    "duration": 5,
    "start_time": "2023-01-14T15:45:46.375Z"
   },
   {
    "duration": 1682,
    "start_time": "2023-01-14T16:36:33.667Z"
   },
   {
    "duration": 2163,
    "start_time": "2023-01-14T16:36:35.351Z"
   },
   {
    "duration": 21,
    "start_time": "2023-01-14T16:36:40.899Z"
   },
   {
    "duration": 13,
    "start_time": "2023-01-14T16:36:41.275Z"
   },
   {
    "duration": 20,
    "start_time": "2023-01-14T16:36:41.957Z"
   },
   {
    "duration": 11,
    "start_time": "2023-01-14T16:36:42.030Z"
   },
   {
    "duration": 3,
    "start_time": "2023-01-14T16:36:46.346Z"
   },
   {
    "duration": 4,
    "start_time": "2023-01-14T16:36:46.777Z"
   },
   {
    "duration": 9,
    "start_time": "2023-01-14T16:36:48.195Z"
   },
   {
    "duration": 6,
    "start_time": "2023-01-14T16:36:49.487Z"
   },
   {
    "duration": 4,
    "start_time": "2023-01-14T16:36:50.899Z"
   },
   {
    "duration": 7,
    "start_time": "2023-01-14T16:36:51.001Z"
   },
   {
    "duration": 21,
    "start_time": "2023-01-14T16:36:51.709Z"
   },
   {
    "duration": 12,
    "start_time": "2023-01-14T16:36:51.893Z"
   },
   {
    "duration": 23,
    "start_time": "2023-01-14T16:36:52.072Z"
   },
   {
    "duration": 1039,
    "start_time": "2023-01-14T16:36:52.734Z"
   },
   {
    "duration": 10,
    "start_time": "2023-01-14T16:36:53.775Z"
   },
   {
    "duration": 943,
    "start_time": "2023-01-14T16:36:54.575Z"
   },
   {
    "duration": 1161,
    "start_time": "2023-01-14T16:36:55.521Z"
   },
   {
    "duration": 882,
    "start_time": "2023-01-14T16:36:58.737Z"
   },
   {
    "duration": 687,
    "start_time": "2023-01-14T16:37:27.735Z"
   },
   {
    "duration": 657,
    "start_time": "2023-01-14T16:37:56.301Z"
   },
   {
    "duration": 810,
    "start_time": "2023-01-14T16:38:23.113Z"
   },
   {
    "duration": 112,
    "start_time": "2023-01-14T16:40:38.349Z"
   },
   {
    "duration": 4,
    "start_time": "2023-01-14T16:40:46.167Z"
   },
   {
    "duration": 6,
    "start_time": "2023-01-14T16:40:47.831Z"
   },
   {
    "duration": 9,
    "start_time": "2023-01-14T16:40:52.091Z"
   },
   {
    "duration": 8,
    "start_time": "2023-01-14T16:40:58.965Z"
   },
   {
    "duration": 4,
    "start_time": "2023-01-14T16:40:59.734Z"
   },
   {
    "duration": 7,
    "start_time": "2023-01-14T16:41:00.391Z"
   },
   {
    "duration": 4207,
    "start_time": "2023-01-14T16:41:01.650Z"
   },
   {
    "duration": 3521,
    "start_time": "2023-01-14T16:41:14.320Z"
   },
   {
    "duration": 4,
    "start_time": "2023-01-14T16:41:19.625Z"
   },
   {
    "duration": 22194,
    "start_time": "2023-01-14T16:41:21.221Z"
   },
   {
    "duration": 3,
    "start_time": "2023-01-14T16:41:46.579Z"
   },
   {
    "duration": 11684,
    "start_time": "2023-01-14T16:41:48.277Z"
   },
   {
    "duration": 83,
    "start_time": "2023-01-14T16:42:17.603Z"
   },
   {
    "duration": 21461,
    "start_time": "2023-01-14T16:42:34.503Z"
   },
   {
    "duration": 6,
    "start_time": "2023-01-14T16:43:05.906Z"
   },
   {
    "duration": 7,
    "start_time": "2023-01-14T16:43:24.492Z"
   },
   {
    "duration": 13,
    "start_time": "2023-01-14T16:43:30.732Z"
   },
   {
    "duration": 14520,
    "start_time": "2023-01-14T16:43:39.755Z"
   },
   {
    "duration": 3,
    "start_time": "2023-01-14T16:44:01.765Z"
   },
   {
    "duration": 14480,
    "start_time": "2023-01-14T16:44:11.716Z"
   },
   {
    "duration": 3,
    "start_time": "2023-01-14T16:44:26.198Z"
   },
   {
    "duration": 15,
    "start_time": "2023-01-14T16:44:26.203Z"
   },
   {
    "duration": 3,
    "start_time": "2023-01-14T16:44:45.469Z"
   },
   {
    "duration": 3,
    "start_time": "2023-01-14T16:44:46.820Z"
   },
   {
    "duration": 3,
    "start_time": "2023-01-14T16:44:53.457Z"
   },
   {
    "duration": 5,
    "start_time": "2023-01-14T16:44:54.244Z"
   },
   {
    "duration": 6,
    "start_time": "2023-01-14T16:45:03.375Z"
   },
   {
    "duration": 1369,
    "start_time": "2023-01-14T16:46:23.385Z"
   },
   {
    "duration": 1405,
    "start_time": "2023-01-14T16:46:30.705Z"
   },
   {
    "duration": 3614,
    "start_time": "2023-01-14T16:48:01.005Z"
   },
   {
    "duration": 5,
    "start_time": "2023-01-14T16:48:10.697Z"
   },
   {
    "duration": 8,
    "start_time": "2023-01-14T16:48:17.312Z"
   },
   {
    "duration": 4,
    "start_time": "2023-01-14T16:48:19.182Z"
   },
   {
    "duration": 4,
    "start_time": "2023-01-14T16:48:45.517Z"
   },
   {
    "duration": 781,
    "start_time": "2023-01-14T16:48:45.524Z"
   },
   {
    "duration": 19,
    "start_time": "2023-01-14T16:48:46.307Z"
   },
   {
    "duration": 15,
    "start_time": "2023-01-14T16:48:46.337Z"
   },
   {
    "duration": 19,
    "start_time": "2023-01-14T16:48:46.354Z"
   },
   {
    "duration": 9,
    "start_time": "2023-01-14T16:48:46.375Z"
   },
   {
    "duration": 4,
    "start_time": "2023-01-14T16:48:46.386Z"
   },
   {
    "duration": 6,
    "start_time": "2023-01-14T16:48:46.391Z"
   },
   {
    "duration": 7,
    "start_time": "2023-01-14T16:48:46.437Z"
   },
   {
    "duration": 6,
    "start_time": "2023-01-14T16:48:46.446Z"
   },
   {
    "duration": 6,
    "start_time": "2023-01-14T16:48:46.454Z"
   },
   {
    "duration": 6,
    "start_time": "2023-01-14T16:48:46.462Z"
   },
   {
    "duration": 23,
    "start_time": "2023-01-14T16:48:46.470Z"
   },
   {
    "duration": 13,
    "start_time": "2023-01-14T16:48:46.540Z"
   },
   {
    "duration": 22,
    "start_time": "2023-01-14T16:48:46.555Z"
   },
   {
    "duration": 1101,
    "start_time": "2023-01-14T16:48:46.579Z"
   },
   {
    "duration": 12,
    "start_time": "2023-01-14T16:48:47.682Z"
   },
   {
    "duration": 994,
    "start_time": "2023-01-14T16:48:47.696Z"
   },
   {
    "duration": 1235,
    "start_time": "2023-01-14T16:48:48.692Z"
   },
   {
    "duration": 723,
    "start_time": "2023-01-14T16:48:49.929Z"
   },
   {
    "duration": 876,
    "start_time": "2023-01-14T16:48:50.654Z"
   },
   {
    "duration": 14,
    "start_time": "2023-01-14T16:48:51.532Z"
   },
   {
    "duration": 1183,
    "start_time": "2023-01-14T16:48:51.551Z"
   },
   {
    "duration": 4,
    "start_time": "2023-01-14T16:48:52.737Z"
   },
   {
    "duration": 9,
    "start_time": "2023-01-14T16:48:52.743Z"
   },
   {
    "duration": 24,
    "start_time": "2023-01-14T16:48:52.753Z"
   },
   {
    "duration": 13,
    "start_time": "2023-01-14T16:48:52.779Z"
   },
   {
    "duration": 15,
    "start_time": "2023-01-14T16:48:52.794Z"
   },
   {
    "duration": 17,
    "start_time": "2023-01-14T16:48:52.811Z"
   },
   {
    "duration": 3208,
    "start_time": "2023-01-14T16:48:52.830Z"
   },
   {
    "duration": 4,
    "start_time": "2023-01-14T16:48:56.041Z"
   },
   {
    "duration": 21635,
    "start_time": "2023-01-14T16:48:56.136Z"
   },
   {
    "duration": 4,
    "start_time": "2023-01-14T16:49:17.773Z"
   },
   {
    "duration": 14224,
    "start_time": "2023-01-14T16:49:17.779Z"
   },
   {
    "duration": 3,
    "start_time": "2023-01-14T16:49:32.004Z"
   },
   {
    "duration": 11,
    "start_time": "2023-01-14T16:49:32.009Z"
   },
   {
    "duration": 7,
    "start_time": "2023-01-14T16:49:32.023Z"
   },
   {
    "duration": 16,
    "start_time": "2023-01-14T16:49:32.032Z"
   },
   {
    "duration": 18,
    "start_time": "2023-01-14T16:49:32.051Z"
   },
   {
    "duration": 3553,
    "start_time": "2023-01-14T16:49:32.071Z"
   },
   {
    "duration": 9,
    "start_time": "2023-01-14T16:49:35.629Z"
   },
   {
    "duration": 19,
    "start_time": "2023-01-14T16:49:35.639Z"
   },
   {
    "duration": 6,
    "start_time": "2023-01-14T16:49:35.660Z"
   },
   {
    "duration": 668,
    "start_time": "2023-01-14T16:50:55.544Z"
   },
   {
    "duration": 814,
    "start_time": "2023-01-14T16:51:04.146Z"
   },
   {
    "duration": 685,
    "start_time": "2023-01-14T16:51:33.111Z"
   },
   {
    "duration": 29700,
    "start_time": "2023-01-14T16:56:02.386Z"
   },
   {
    "duration": 25302,
    "start_time": "2023-01-14T16:57:27.046Z"
   },
   {
    "duration": 5,
    "start_time": "2023-01-14T16:58:59.223Z"
   },
   {
    "duration": 14,
    "start_time": "2023-01-14T16:59:57.401Z"
   },
   {
    "duration": 10,
    "start_time": "2023-01-14T17:00:01.122Z"
   },
   {
    "duration": 9,
    "start_time": "2023-01-14T17:00:07.237Z"
   },
   {
    "duration": 5,
    "start_time": "2023-01-14T17:00:11.037Z"
   },
   {
    "duration": 4,
    "start_time": "2023-01-14T17:00:23.027Z"
   },
   {
    "duration": 52,
    "start_time": "2023-01-14T17:04:52.600Z"
   },
   {
    "duration": 1645,
    "start_time": "2023-01-14T17:04:58.802Z"
   },
   {
    "duration": 1896,
    "start_time": "2023-01-14T17:05:00.449Z"
   },
   {
    "duration": 21,
    "start_time": "2023-01-14T17:05:02.346Z"
   },
   {
    "duration": 15,
    "start_time": "2023-01-14T17:05:02.369Z"
   },
   {
    "duration": 25,
    "start_time": "2023-01-14T17:05:02.386Z"
   },
   {
    "duration": 10,
    "start_time": "2023-01-14T17:05:02.413Z"
   },
   {
    "duration": 3,
    "start_time": "2023-01-14T17:05:02.438Z"
   },
   {
    "duration": 6,
    "start_time": "2023-01-14T17:05:02.443Z"
   },
   {
    "duration": 11,
    "start_time": "2023-01-14T17:05:02.450Z"
   },
   {
    "duration": 7,
    "start_time": "2023-01-14T17:05:02.462Z"
   },
   {
    "duration": 12,
    "start_time": "2023-01-14T17:05:02.471Z"
   },
   {
    "duration": 17,
    "start_time": "2023-01-14T17:05:02.484Z"
   },
   {
    "duration": 36,
    "start_time": "2023-01-14T17:05:02.503Z"
   },
   {
    "duration": 16,
    "start_time": "2023-01-14T17:05:02.542Z"
   },
   {
    "duration": 25,
    "start_time": "2023-01-14T17:05:02.560Z"
   },
   {
    "duration": 1038,
    "start_time": "2023-01-14T17:05:02.587Z"
   },
   {
    "duration": 18,
    "start_time": "2023-01-14T17:05:03.627Z"
   },
   {
    "duration": 970,
    "start_time": "2023-01-14T17:05:03.646Z"
   },
   {
    "duration": 1096,
    "start_time": "2023-01-14T17:05:04.618Z"
   },
   {
    "duration": 767,
    "start_time": "2023-01-14T17:05:05.716Z"
   },
   {
    "duration": 4,
    "start_time": "2023-01-14T17:05:06.485Z"
   },
   {
    "duration": 689,
    "start_time": "2023-01-14T17:05:06.490Z"
   },
   {
    "duration": 7,
    "start_time": "2023-01-14T17:05:07.181Z"
   },
   {
    "duration": 1077,
    "start_time": "2023-01-14T17:05:07.190Z"
   },
   {
    "duration": 4,
    "start_time": "2023-01-14T17:05:08.268Z"
   },
   {
    "duration": 12,
    "start_time": "2023-01-14T17:05:08.274Z"
   },
   {
    "duration": 21,
    "start_time": "2023-01-14T17:05:08.288Z"
   },
   {
    "duration": 41,
    "start_time": "2023-01-14T17:05:08.311Z"
   },
   {
    "duration": 10,
    "start_time": "2023-01-14T17:05:08.354Z"
   },
   {
    "duration": 20,
    "start_time": "2023-01-14T17:05:08.366Z"
   },
   {
    "duration": 2755,
    "start_time": "2023-01-14T17:05:08.388Z"
   },
   {
    "duration": 3,
    "start_time": "2023-01-14T17:05:11.145Z"
   },
   {
    "duration": 21592,
    "start_time": "2023-01-14T17:05:11.150Z"
   },
   {
    "duration": 4,
    "start_time": "2023-01-14T17:05:32.744Z"
   },
   {
    "duration": 14164,
    "start_time": "2023-01-14T17:05:32.750Z"
   },
   {
    "duration": 3,
    "start_time": "2023-01-14T17:05:46.916Z"
   },
   {
    "duration": 6,
    "start_time": "2023-01-14T17:05:46.921Z"
   },
   {
    "duration": 3,
    "start_time": "2023-01-14T17:05:46.938Z"
   },
   {
    "duration": 8,
    "start_time": "2023-01-14T17:05:46.943Z"
   },
   {
    "duration": 6,
    "start_time": "2023-01-14T17:05:46.952Z"
   },
   {
    "duration": 3662,
    "start_time": "2023-01-14T17:05:46.962Z"
   },
   {
    "duration": 3,
    "start_time": "2023-01-14T17:05:50.626Z"
   },
   {
    "duration": 41,
    "start_time": "2023-01-14T17:05:50.631Z"
   },
   {
    "duration": 34,
    "start_time": "2023-01-14T17:05:50.674Z"
   },
   {
    "duration": 238,
    "start_time": "2023-01-14T17:14:18.701Z"
   },
   {
    "duration": 76,
    "start_time": "2023-01-14T17:16:15.373Z"
   },
   {
    "duration": 87,
    "start_time": "2023-01-14T17:16:24.072Z"
   },
   {
    "duration": 210,
    "start_time": "2023-01-14T17:16:31.094Z"
   },
   {
    "duration": 205,
    "start_time": "2023-01-14T17:17:27.340Z"
   },
   {
    "duration": 672,
    "start_time": "2023-01-14T17:17:36.968Z"
   },
   {
    "duration": 808,
    "start_time": "2023-01-14T17:17:45.768Z"
   },
   {
    "duration": 691,
    "start_time": "2023-01-14T17:17:50.169Z"
   },
   {
    "duration": 4060,
    "start_time": "2023-01-14T17:20:28.378Z"
   },
   {
    "duration": 14,
    "start_time": "2023-01-14T17:20:32.446Z"
   },
   {
    "duration": 25654,
    "start_time": "2023-01-14T17:20:32.468Z"
   },
   {
    "duration": 3,
    "start_time": "2023-01-14T17:20:58.125Z"
   },
   {
    "duration": 16500,
    "start_time": "2023-01-14T17:20:58.139Z"
   },
   {
    "duration": 3,
    "start_time": "2023-01-14T17:21:14.647Z"
   },
   {
    "duration": 21,
    "start_time": "2023-01-14T17:21:14.652Z"
   },
   {
    "duration": 9,
    "start_time": "2023-01-14T17:21:14.675Z"
   },
   {
    "duration": 10,
    "start_time": "2023-01-14T17:21:14.686Z"
   },
   {
    "duration": 9,
    "start_time": "2023-01-14T17:21:14.698Z"
   },
   {
    "duration": 3649,
    "start_time": "2023-01-14T17:21:14.709Z"
   },
   {
    "duration": 3,
    "start_time": "2023-01-14T17:21:18.361Z"
   },
   {
    "duration": 24,
    "start_time": "2023-01-14T17:21:18.366Z"
   },
   {
    "duration": 6,
    "start_time": "2023-01-14T17:21:18.393Z"
   },
   {
    "duration": 6,
    "start_time": "2023-01-14T17:25:40.128Z"
   },
   {
    "duration": 792,
    "start_time": "2023-01-14T17:25:40.137Z"
   },
   {
    "duration": 22,
    "start_time": "2023-01-14T17:25:40.931Z"
   },
   {
    "duration": 14,
    "start_time": "2023-01-14T17:25:40.956Z"
   },
   {
    "duration": 18,
    "start_time": "2023-01-14T17:25:40.972Z"
   },
   {
    "duration": 10,
    "start_time": "2023-01-14T17:25:40.991Z"
   },
   {
    "duration": 4,
    "start_time": "2023-01-14T17:25:41.038Z"
   },
   {
    "duration": 6,
    "start_time": "2023-01-14T17:25:41.044Z"
   },
   {
    "duration": 10,
    "start_time": "2023-01-14T17:25:41.052Z"
   },
   {
    "duration": 5,
    "start_time": "2023-01-14T17:25:41.064Z"
   },
   {
    "duration": 7,
    "start_time": "2023-01-14T17:25:41.071Z"
   },
   {
    "duration": 7,
    "start_time": "2023-01-14T17:25:41.080Z"
   },
   {
    "duration": 49,
    "start_time": "2023-01-14T17:25:41.088Z"
   },
   {
    "duration": 10,
    "start_time": "2023-01-14T17:25:41.140Z"
   },
   {
    "duration": 30,
    "start_time": "2023-01-14T17:25:41.153Z"
   },
   {
    "duration": 1152,
    "start_time": "2023-01-14T17:25:41.185Z"
   },
   {
    "duration": 8,
    "start_time": "2023-01-14T17:25:42.340Z"
   },
   {
    "duration": 1226,
    "start_time": "2023-01-14T17:25:42.350Z"
   },
   {
    "duration": 1028,
    "start_time": "2023-01-14T17:25:43.578Z"
   },
   {
    "duration": 855,
    "start_time": "2023-01-14T17:25:44.608Z"
   },
   {
    "duration": 4,
    "start_time": "2023-01-14T17:25:45.465Z"
   },
   {
    "duration": 857,
    "start_time": "2023-01-14T17:25:45.471Z"
   },
   {
    "duration": 12,
    "start_time": "2023-01-14T17:25:46.331Z"
   },
   {
    "duration": 1074,
    "start_time": "2023-01-14T17:25:46.348Z"
   },
   {
    "duration": 4,
    "start_time": "2023-01-14T17:25:47.423Z"
   },
   {
    "duration": 17,
    "start_time": "2023-01-14T17:25:47.437Z"
   },
   {
    "duration": 34,
    "start_time": "2023-01-14T17:25:47.456Z"
   },
   {
    "duration": 20,
    "start_time": "2023-01-14T17:25:47.492Z"
   },
   {
    "duration": 26,
    "start_time": "2023-01-14T17:25:47.514Z"
   },
   {
    "duration": 33,
    "start_time": "2023-01-14T17:25:47.542Z"
   },
   {
    "duration": 2961,
    "start_time": "2023-01-14T17:25:47.577Z"
   },
   {
    "duration": 4,
    "start_time": "2023-01-14T17:25:50.540Z"
   },
   {
    "duration": 21442,
    "start_time": "2023-01-14T17:25:50.547Z"
   },
   {
    "duration": 3,
    "start_time": "2023-01-14T17:26:11.991Z"
   },
   {
    "duration": 99,
    "start_time": "2023-01-14T17:27:08.426Z"
   },
   {
    "duration": 12,
    "start_time": "2023-01-14T17:27:20.505Z"
   },
   {
    "duration": 11,
    "start_time": "2023-01-14T17:27:36.864Z"
   },
   {
    "duration": 56,
    "start_time": "2023-01-14T17:28:13.272Z"
   },
   {
    "duration": 780,
    "start_time": "2023-01-14T17:28:13.331Z"
   },
   {
    "duration": 28,
    "start_time": "2023-01-14T17:28:14.113Z"
   },
   {
    "duration": 17,
    "start_time": "2023-01-14T17:28:14.144Z"
   },
   {
    "duration": 35,
    "start_time": "2023-01-14T17:28:14.165Z"
   },
   {
    "duration": 13,
    "start_time": "2023-01-14T17:28:14.203Z"
   },
   {
    "duration": 4,
    "start_time": "2023-01-14T17:28:14.238Z"
   },
   {
    "duration": 9,
    "start_time": "2023-01-14T17:28:14.244Z"
   },
   {
    "duration": 16,
    "start_time": "2023-01-14T17:28:14.255Z"
   },
   {
    "duration": 13,
    "start_time": "2023-01-14T17:28:14.274Z"
   },
   {
    "duration": 11,
    "start_time": "2023-01-14T17:28:14.289Z"
   },
   {
    "duration": 8,
    "start_time": "2023-01-14T17:28:14.303Z"
   },
   {
    "duration": 34,
    "start_time": "2023-01-14T17:28:14.314Z"
   },
   {
    "duration": 15,
    "start_time": "2023-01-14T17:28:14.351Z"
   },
   {
    "duration": 20,
    "start_time": "2023-01-14T17:28:14.368Z"
   },
   {
    "duration": 1078,
    "start_time": "2023-01-14T17:28:14.390Z"
   },
   {
    "duration": 8,
    "start_time": "2023-01-14T17:28:15.469Z"
   },
   {
    "duration": 952,
    "start_time": "2023-01-14T17:28:15.478Z"
   },
   {
    "duration": 1102,
    "start_time": "2023-01-14T17:28:16.437Z"
   },
   {
    "duration": 822,
    "start_time": "2023-01-14T17:28:17.541Z"
   },
   {
    "duration": 5,
    "start_time": "2023-01-14T17:28:18.365Z"
   },
   {
    "duration": 818,
    "start_time": "2023-01-14T17:28:18.372Z"
   },
   {
    "duration": 9,
    "start_time": "2023-01-14T17:28:19.192Z"
   },
   {
    "duration": 1117,
    "start_time": "2023-01-14T17:28:19.203Z"
   },
   {
    "duration": 3,
    "start_time": "2023-01-14T17:28:20.322Z"
   },
   {
    "duration": 11,
    "start_time": "2023-01-14T17:28:20.327Z"
   },
   {
    "duration": 12,
    "start_time": "2023-01-14T17:28:20.340Z"
   },
   {
    "duration": 14,
    "start_time": "2023-01-14T17:28:20.354Z"
   },
   {
    "duration": 8,
    "start_time": "2023-01-14T17:28:20.370Z"
   },
   {
    "duration": 11,
    "start_time": "2023-01-14T17:28:20.380Z"
   },
   {
    "duration": 2756,
    "start_time": "2023-01-14T17:28:20.393Z"
   },
   {
    "duration": 4,
    "start_time": "2023-01-14T17:28:23.152Z"
   },
   {
    "duration": 21579,
    "start_time": "2023-01-14T17:28:23.158Z"
   },
   {
    "duration": 3,
    "start_time": "2023-01-14T17:28:44.739Z"
   },
   {
    "duration": 3552,
    "start_time": "2023-01-14T17:28:44.746Z"
   },
   {
    "duration": 2465,
    "start_time": "2023-01-14T17:29:23.403Z"
   },
   {
    "duration": 2476,
    "start_time": "2023-01-14T17:29:32.384Z"
   },
   {
    "duration": 3040,
    "start_time": "2023-01-14T17:29:42.410Z"
   },
   {
    "duration": 3251,
    "start_time": "2023-01-14T17:30:16.200Z"
   },
   {
    "duration": 3232,
    "start_time": "2023-01-14T17:30:23.026Z"
   },
   {
    "duration": 14470,
    "start_time": "2023-01-14T17:31:08.118Z"
   },
   {
    "duration": 3,
    "start_time": "2023-01-14T17:31:22.591Z"
   },
   {
    "duration": 3058,
    "start_time": "2023-01-14T17:31:22.596Z"
   },
   {
    "duration": 33853,
    "start_time": "2023-01-14T17:31:50.108Z"
   },
   {
    "duration": 3,
    "start_time": "2023-01-14T17:32:23.963Z"
   },
   {
    "duration": 3,
    "start_time": "2023-01-14T17:32:31.756Z"
   },
   {
    "duration": 5,
    "start_time": "2023-01-14T17:32:33.486Z"
   },
   {
    "duration": 16,
    "start_time": "2023-01-14T17:39:38.106Z"
   },
   {
    "duration": 15,
    "start_time": "2023-01-14T17:40:01.166Z"
   },
   {
    "duration": 5,
    "start_time": "2023-01-14T17:40:22.252Z"
   },
   {
    "duration": 705,
    "start_time": "2023-01-14T17:40:27.944Z"
   },
   {
    "duration": 20,
    "start_time": "2023-01-14T17:40:28.651Z"
   },
   {
    "duration": 13,
    "start_time": "2023-01-14T17:40:28.673Z"
   },
   {
    "duration": 16,
    "start_time": "2023-01-14T17:40:28.688Z"
   },
   {
    "duration": 41,
    "start_time": "2023-01-14T17:40:28.706Z"
   },
   {
    "duration": 10,
    "start_time": "2023-01-14T17:40:28.749Z"
   },
   {
    "duration": 15,
    "start_time": "2023-01-14T17:40:28.760Z"
   },
   {
    "duration": 18,
    "start_time": "2023-01-14T17:40:28.777Z"
   },
   {
    "duration": 24,
    "start_time": "2023-01-14T17:40:28.797Z"
   },
   {
    "duration": 30,
    "start_time": "2023-01-14T17:40:28.824Z"
   },
   {
    "duration": 38,
    "start_time": "2023-01-14T17:40:28.856Z"
   },
   {
    "duration": 37,
    "start_time": "2023-01-14T17:40:28.896Z"
   },
   {
    "duration": 37,
    "start_time": "2023-01-14T17:40:28.935Z"
   },
   {
    "duration": 30,
    "start_time": "2023-01-14T17:40:28.976Z"
   },
   {
    "duration": 1236,
    "start_time": "2023-01-14T17:40:29.008Z"
   },
   {
    "duration": 9,
    "start_time": "2023-01-14T17:40:30.246Z"
   },
   {
    "duration": 991,
    "start_time": "2023-01-14T17:40:30.257Z"
   },
   {
    "duration": 1113,
    "start_time": "2023-01-14T17:40:31.251Z"
   },
   {
    "duration": 681,
    "start_time": "2023-01-14T17:40:32.366Z"
   },
   {
    "duration": 5,
    "start_time": "2023-01-14T17:40:33.049Z"
   },
   {
    "duration": 939,
    "start_time": "2023-01-14T17:40:33.055Z"
   },
   {
    "duration": 8,
    "start_time": "2023-01-14T17:40:33.997Z"
   },
   {
    "duration": 1114,
    "start_time": "2023-01-14T17:40:34.006Z"
   },
   {
    "duration": 4,
    "start_time": "2023-01-14T17:40:35.123Z"
   },
   {
    "duration": 10,
    "start_time": "2023-01-14T17:40:35.137Z"
   },
   {
    "duration": 37,
    "start_time": "2023-01-14T17:40:35.149Z"
   },
   {
    "duration": 15,
    "start_time": "2023-01-14T17:40:35.188Z"
   },
   {
    "duration": 28,
    "start_time": "2023-01-14T17:40:35.205Z"
   },
   {
    "duration": 37,
    "start_time": "2023-01-14T17:40:35.235Z"
   },
   {
    "duration": 4869,
    "start_time": "2023-01-14T17:40:35.275Z"
   },
   {
    "duration": 5,
    "start_time": "2023-01-14T17:40:40.149Z"
   },
   {
    "duration": 22413,
    "start_time": "2023-01-14T17:40:40.156Z"
   },
   {
    "duration": 3,
    "start_time": "2023-01-14T17:41:02.571Z"
   },
   {
    "duration": 130,
    "start_time": "2023-01-14T17:41:02.576Z"
   },
   {
    "duration": 3201,
    "start_time": "2023-01-14T17:41:02.708Z"
   },
   {
    "duration": 33639,
    "start_time": "2023-01-14T17:41:05.911Z"
   },
   {
    "duration": 4,
    "start_time": "2023-01-14T17:41:39.552Z"
   },
   {
    "duration": 11,
    "start_time": "2023-01-14T17:41:39.558Z"
   },
   {
    "duration": 11,
    "start_time": "2023-01-14T17:41:39.572Z"
   },
   {
    "duration": 3694,
    "start_time": "2023-01-14T17:41:39.585Z"
   },
   {
    "duration": 3,
    "start_time": "2023-01-14T17:41:43.283Z"
   },
   {
    "duration": 12,
    "start_time": "2023-01-14T17:41:43.288Z"
   },
   {
    "duration": 4,
    "start_time": "2023-01-14T17:41:43.302Z"
   },
   {
    "duration": 15,
    "start_time": "2023-01-14T18:00:35.104Z"
   },
   {
    "duration": 6,
    "start_time": "2023-01-14T18:01:27.113Z"
   },
   {
    "duration": 5,
    "start_time": "2023-01-14T18:01:30.684Z"
   },
   {
    "duration": 758,
    "start_time": "2023-01-14T18:01:30.691Z"
   },
   {
    "duration": 19,
    "start_time": "2023-01-14T18:01:31.451Z"
   },
   {
    "duration": 18,
    "start_time": "2023-01-14T18:01:31.472Z"
   },
   {
    "duration": 45,
    "start_time": "2023-01-14T18:01:31.493Z"
   },
   {
    "duration": 11,
    "start_time": "2023-01-14T18:01:31.540Z"
   },
   {
    "duration": 4,
    "start_time": "2023-01-14T18:01:31.552Z"
   },
   {
    "duration": 16,
    "start_time": "2023-01-14T18:01:31.558Z"
   },
   {
    "duration": 11,
    "start_time": "2023-01-14T18:01:31.576Z"
   },
   {
    "duration": 9,
    "start_time": "2023-01-14T18:01:31.590Z"
   },
   {
    "duration": 6,
    "start_time": "2023-01-14T18:01:31.602Z"
   },
   {
    "duration": 32,
    "start_time": "2023-01-14T18:01:31.610Z"
   },
   {
    "duration": 20,
    "start_time": "2023-01-14T18:01:31.643Z"
   },
   {
    "duration": 21,
    "start_time": "2023-01-14T18:01:31.665Z"
   },
   {
    "duration": 21,
    "start_time": "2023-01-14T18:01:31.688Z"
   },
   {
    "duration": 1069,
    "start_time": "2023-01-14T18:01:31.712Z"
   },
   {
    "duration": 15,
    "start_time": "2023-01-14T18:01:32.783Z"
   },
   {
    "duration": 1163,
    "start_time": "2023-01-14T18:01:32.801Z"
   },
   {
    "duration": 1090,
    "start_time": "2023-01-14T18:01:33.966Z"
   },
   {
    "duration": 685,
    "start_time": "2023-01-14T18:01:35.058Z"
   },
   {
    "duration": 5,
    "start_time": "2023-01-14T18:01:35.745Z"
   },
   {
    "duration": 702,
    "start_time": "2023-01-14T18:01:35.752Z"
   },
   {
    "duration": 7,
    "start_time": "2023-01-14T18:01:36.456Z"
   },
   {
    "duration": 1132,
    "start_time": "2023-01-14T18:01:36.465Z"
   },
   {
    "duration": 4,
    "start_time": "2023-01-14T18:01:37.600Z"
   },
   {
    "duration": 27,
    "start_time": "2023-01-14T18:01:37.606Z"
   },
   {
    "duration": 18,
    "start_time": "2023-01-14T18:01:37.636Z"
   },
   {
    "duration": 38,
    "start_time": "2023-01-14T18:01:37.659Z"
   },
   {
    "duration": 27,
    "start_time": "2023-01-14T18:01:37.699Z"
   },
   {
    "duration": 19,
    "start_time": "2023-01-14T18:01:37.729Z"
   },
   {
    "duration": 3888,
    "start_time": "2023-01-14T18:01:37.751Z"
   },
   {
    "duration": 4,
    "start_time": "2023-01-14T18:01:41.642Z"
   },
   {
    "duration": 21547,
    "start_time": "2023-01-14T18:01:41.648Z"
   },
   {
    "duration": 3,
    "start_time": "2023-01-14T18:02:03.197Z"
   },
   {
    "duration": 143,
    "start_time": "2023-01-14T18:02:03.203Z"
   },
   {
    "duration": 3095,
    "start_time": "2023-01-14T18:02:03.349Z"
   },
   {
    "duration": 15,
    "start_time": "2023-01-14T18:02:06.447Z"
   },
   {
    "duration": 0,
    "start_time": "2023-01-14T18:02:06.465Z"
   },
   {
    "duration": 0,
    "start_time": "2023-01-14T18:02:06.466Z"
   },
   {
    "duration": 0,
    "start_time": "2023-01-14T18:02:06.468Z"
   },
   {
    "duration": 0,
    "start_time": "2023-01-14T18:02:06.469Z"
   },
   {
    "duration": 0,
    "start_time": "2023-01-14T18:02:06.471Z"
   },
   {
    "duration": 0,
    "start_time": "2023-01-14T18:02:06.473Z"
   },
   {
    "duration": 0,
    "start_time": "2023-01-14T18:02:06.474Z"
   },
   {
    "duration": 0,
    "start_time": "2023-01-14T18:02:06.475Z"
   },
   {
    "duration": 272308,
    "start_time": "2023-01-14T18:02:31.688Z"
   },
   {
    "duration": 0,
    "start_time": "2023-01-14T19:01:59.108Z"
   },
   {
    "duration": 14945,
    "start_time": "2023-01-14T19:02:02.783Z"
   },
   {
    "duration": 0,
    "start_time": "2023-01-14T19:16:48.590Z"
   },
   {
    "duration": 0,
    "start_time": "2023-01-14T19:16:48.591Z"
   },
   {
    "duration": 0,
    "start_time": "2023-01-14T19:16:48.593Z"
   },
   {
    "duration": 0,
    "start_time": "2023-01-14T19:16:48.594Z"
   },
   {
    "duration": 0,
    "start_time": "2023-01-14T19:16:48.595Z"
   },
   {
    "duration": 0,
    "start_time": "2023-01-14T19:16:48.596Z"
   },
   {
    "duration": 0,
    "start_time": "2023-01-14T19:16:48.597Z"
   },
   {
    "duration": 0,
    "start_time": "2023-01-14T19:16:48.599Z"
   },
   {
    "duration": 0,
    "start_time": "2023-01-14T19:16:48.600Z"
   },
   {
    "duration": 0,
    "start_time": "2023-01-14T19:16:48.601Z"
   },
   {
    "duration": 0,
    "start_time": "2023-01-14T19:16:48.602Z"
   },
   {
    "duration": 0,
    "start_time": "2023-01-14T19:16:48.603Z"
   },
   {
    "duration": 0,
    "start_time": "2023-01-14T19:16:48.605Z"
   },
   {
    "duration": 0,
    "start_time": "2023-01-14T19:16:48.605Z"
   },
   {
    "duration": 0,
    "start_time": "2023-01-14T19:16:48.606Z"
   },
   {
    "duration": 0,
    "start_time": "2023-01-14T19:16:48.608Z"
   },
   {
    "duration": 0,
    "start_time": "2023-01-14T19:16:48.641Z"
   },
   {
    "duration": 0,
    "start_time": "2023-01-14T19:16:48.644Z"
   },
   {
    "duration": 0,
    "start_time": "2023-01-14T19:16:48.646Z"
   },
   {
    "duration": 0,
    "start_time": "2023-01-14T19:16:48.649Z"
   },
   {
    "duration": 0,
    "start_time": "2023-01-14T19:16:48.650Z"
   },
   {
    "duration": 0,
    "start_time": "2023-01-14T19:16:48.652Z"
   },
   {
    "duration": 0,
    "start_time": "2023-01-14T19:16:48.653Z"
   },
   {
    "duration": 0,
    "start_time": "2023-01-14T19:16:48.656Z"
   },
   {
    "duration": 0,
    "start_time": "2023-01-14T19:16:48.658Z"
   },
   {
    "duration": 0,
    "start_time": "2023-01-14T19:16:48.659Z"
   },
   {
    "duration": 0,
    "start_time": "2023-01-14T19:16:48.660Z"
   },
   {
    "duration": 0,
    "start_time": "2023-01-14T19:16:48.661Z"
   },
   {
    "duration": 0,
    "start_time": "2023-01-14T19:16:48.662Z"
   },
   {
    "duration": 0,
    "start_time": "2023-01-14T19:16:48.663Z"
   },
   {
    "duration": 0,
    "start_time": "2023-01-14T19:16:48.664Z"
   },
   {
    "duration": 0,
    "start_time": "2023-01-14T19:16:48.666Z"
   },
   {
    "duration": 1,
    "start_time": "2023-01-14T19:16:48.666Z"
   },
   {
    "duration": 0,
    "start_time": "2023-01-14T19:16:48.667Z"
   },
   {
    "duration": 0,
    "start_time": "2023-01-14T19:16:48.669Z"
   },
   {
    "duration": 0,
    "start_time": "2023-01-14T19:16:48.670Z"
   },
   {
    "duration": 0,
    "start_time": "2023-01-14T19:16:48.672Z"
   },
   {
    "duration": 0,
    "start_time": "2023-01-14T19:16:48.673Z"
   },
   {
    "duration": 0,
    "start_time": "2023-01-14T19:16:48.675Z"
   },
   {
    "duration": 0,
    "start_time": "2023-01-14T19:16:48.676Z"
   },
   {
    "duration": 0,
    "start_time": "2023-01-14T19:16:48.677Z"
   },
   {
    "duration": 0,
    "start_time": "2023-01-14T19:16:48.678Z"
   },
   {
    "duration": 0,
    "start_time": "2023-01-14T19:16:48.679Z"
   },
   {
    "duration": 0,
    "start_time": "2023-01-14T19:16:48.680Z"
   },
   {
    "duration": 5,
    "start_time": "2023-01-14T19:17:27.601Z"
   },
   {
    "duration": 901,
    "start_time": "2023-01-14T19:17:27.608Z"
   },
   {
    "duration": 19,
    "start_time": "2023-01-14T19:17:28.511Z"
   },
   {
    "duration": 28,
    "start_time": "2023-01-14T19:17:28.532Z"
   },
   {
    "duration": 18,
    "start_time": "2023-01-14T19:17:28.563Z"
   },
   {
    "duration": 11,
    "start_time": "2023-01-14T19:17:28.583Z"
   },
   {
    "duration": 3,
    "start_time": "2023-01-14T19:17:28.596Z"
   },
   {
    "duration": 41,
    "start_time": "2023-01-14T19:17:28.601Z"
   },
   {
    "duration": 12,
    "start_time": "2023-01-14T19:17:28.645Z"
   },
   {
    "duration": 8,
    "start_time": "2023-01-14T19:17:28.659Z"
   },
   {
    "duration": 7,
    "start_time": "2023-01-14T19:17:28.670Z"
   },
   {
    "duration": 10,
    "start_time": "2023-01-14T19:17:28.678Z"
   },
   {
    "duration": 54,
    "start_time": "2023-01-14T19:17:28.690Z"
   },
   {
    "duration": 13,
    "start_time": "2023-01-14T19:17:28.755Z"
   },
   {
    "duration": 23,
    "start_time": "2023-01-14T19:17:28.770Z"
   },
   {
    "duration": 1232,
    "start_time": "2023-01-14T19:17:28.796Z"
   },
   {
    "duration": 21,
    "start_time": "2023-01-14T19:17:30.030Z"
   },
   {
    "duration": 1066,
    "start_time": "2023-01-14T19:17:30.055Z"
   },
   {
    "duration": 1277,
    "start_time": "2023-01-14T19:17:31.123Z"
   },
   {
    "duration": 908,
    "start_time": "2023-01-14T19:17:32.402Z"
   },
   {
    "duration": 5,
    "start_time": "2023-01-14T19:17:33.312Z"
   },
   {
    "duration": 806,
    "start_time": "2023-01-14T19:17:33.319Z"
   },
   {
    "duration": 15,
    "start_time": "2023-01-14T19:17:34.128Z"
   },
   {
    "duration": 1234,
    "start_time": "2023-01-14T19:17:34.146Z"
   },
   {
    "duration": 5,
    "start_time": "2023-01-14T19:17:35.381Z"
   },
   {
    "duration": 7,
    "start_time": "2023-01-14T19:17:35.388Z"
   },
   {
    "duration": 10,
    "start_time": "2023-01-14T19:17:35.397Z"
   },
   {
    "duration": 12,
    "start_time": "2023-01-14T19:17:35.409Z"
   },
   {
    "duration": 18,
    "start_time": "2023-01-14T19:17:35.423Z"
   },
   {
    "duration": 31,
    "start_time": "2023-01-14T19:17:35.443Z"
   },
   {
    "duration": 2978,
    "start_time": "2023-01-14T19:17:35.476Z"
   },
   {
    "duration": 4,
    "start_time": "2023-01-14T19:17:38.457Z"
   },
   {
    "duration": 23020,
    "start_time": "2023-01-14T19:17:38.539Z"
   },
   {
    "duration": 3,
    "start_time": "2023-01-14T19:18:01.561Z"
   },
   {
    "duration": 5731,
    "start_time": "2023-01-14T19:18:01.566Z"
   },
   {
    "duration": 3,
    "start_time": "2023-01-14T19:18:07.299Z"
   },
   {
    "duration": 19,
    "start_time": "2023-01-14T19:18:07.303Z"
   },
   {
    "duration": 6,
    "start_time": "2023-01-14T19:18:07.324Z"
   },
   {
    "duration": 10,
    "start_time": "2023-01-14T19:18:07.331Z"
   },
   {
    "duration": 19,
    "start_time": "2023-01-14T19:18:07.343Z"
   },
   {
    "duration": 3794,
    "start_time": "2023-01-14T19:18:07.366Z"
   },
   {
    "duration": 3,
    "start_time": "2023-01-14T19:18:11.162Z"
   },
   {
    "duration": 28,
    "start_time": "2023-01-14T19:18:11.167Z"
   },
   {
    "duration": 17,
    "start_time": "2023-01-14T19:18:11.196Z"
   },
   {
    "duration": 5,
    "start_time": "2023-01-14T19:18:18.154Z"
   },
   {
    "duration": 897,
    "start_time": "2023-01-14T19:18:18.161Z"
   },
   {
    "duration": 23,
    "start_time": "2023-01-14T19:18:19.060Z"
   },
   {
    "duration": 40,
    "start_time": "2023-01-14T19:18:19.085Z"
   },
   {
    "duration": 54,
    "start_time": "2023-01-14T19:18:19.128Z"
   },
   {
    "duration": 24,
    "start_time": "2023-01-14T19:18:19.184Z"
   },
   {
    "duration": 43,
    "start_time": "2023-01-14T19:18:19.210Z"
   },
   {
    "duration": 29,
    "start_time": "2023-01-14T19:18:19.256Z"
   },
   {
    "duration": 38,
    "start_time": "2023-01-14T19:18:19.287Z"
   },
   {
    "duration": 52,
    "start_time": "2023-01-14T19:18:19.327Z"
   },
   {
    "duration": 28,
    "start_time": "2023-01-14T19:18:19.381Z"
   },
   {
    "duration": 42,
    "start_time": "2023-01-14T19:18:19.411Z"
   },
   {
    "duration": 31,
    "start_time": "2023-01-14T19:18:19.455Z"
   },
   {
    "duration": 29,
    "start_time": "2023-01-14T19:18:19.489Z"
   },
   {
    "duration": 84,
    "start_time": "2023-01-14T19:18:19.521Z"
   },
   {
    "duration": 1034,
    "start_time": "2023-01-14T19:18:19.607Z"
   },
   {
    "duration": 12,
    "start_time": "2023-01-14T19:18:20.643Z"
   },
   {
    "duration": 1211,
    "start_time": "2023-01-14T19:18:20.657Z"
   },
   {
    "duration": 1143,
    "start_time": "2023-01-14T19:18:21.871Z"
   },
   {
    "duration": 744,
    "start_time": "2023-01-14T19:18:23.016Z"
   },
   {
    "duration": 5,
    "start_time": "2023-01-14T19:18:23.761Z"
   },
   {
    "duration": 912,
    "start_time": "2023-01-14T19:18:23.767Z"
   },
   {
    "duration": 7,
    "start_time": "2023-01-14T19:18:24.681Z"
   },
   {
    "duration": 1005,
    "start_time": "2023-01-14T19:18:24.690Z"
   },
   {
    "duration": 4,
    "start_time": "2023-01-14T19:18:25.697Z"
   },
   {
    "duration": 15,
    "start_time": "2023-01-14T19:18:25.702Z"
   },
   {
    "duration": 26,
    "start_time": "2023-01-14T19:18:25.719Z"
   },
   {
    "duration": 14,
    "start_time": "2023-01-14T19:18:25.751Z"
   },
   {
    "duration": 15,
    "start_time": "2023-01-14T19:18:25.767Z"
   },
   {
    "duration": 19,
    "start_time": "2023-01-14T19:18:25.783Z"
   },
   {
    "duration": 3636,
    "start_time": "2023-01-14T19:18:25.804Z"
   },
   {
    "duration": 4,
    "start_time": "2023-01-14T19:18:29.442Z"
   },
   {
    "duration": 23415,
    "start_time": "2023-01-14T19:18:29.447Z"
   },
   {
    "duration": 3,
    "start_time": "2023-01-14T19:18:52.865Z"
   },
   {
    "duration": 742621,
    "start_time": "2023-01-14T19:18:52.870Z"
   },
   {
    "duration": 2,
    "start_time": "2023-01-14T19:31:15.493Z"
   },
   {
    "duration": 7,
    "start_time": "2023-01-14T19:31:15.497Z"
   },
   {
    "duration": 6,
    "start_time": "2023-01-14T19:31:15.506Z"
   },
   {
    "duration": 12,
    "start_time": "2023-01-14T19:31:15.514Z"
   },
   {
    "duration": 8,
    "start_time": "2023-01-14T19:31:15.538Z"
   },
   {
    "duration": 3945,
    "start_time": "2023-01-14T19:31:15.552Z"
   },
   {
    "duration": 4,
    "start_time": "2023-01-14T19:31:19.498Z"
   },
   {
    "duration": 11,
    "start_time": "2023-01-14T19:31:19.504Z"
   },
   {
    "duration": 21,
    "start_time": "2023-01-14T19:31:19.517Z"
   },
   {
    "duration": 5,
    "start_time": "2023-01-14T19:33:50.636Z"
   },
   {
    "duration": 5,
    "start_time": "2023-01-14T19:34:33.748Z"
   },
   {
    "duration": 5,
    "start_time": "2023-01-14T19:35:09.109Z"
   },
   {
    "duration": 2270,
    "start_time": "2023-01-15T14:04:03.326Z"
   },
   {
    "duration": 3193,
    "start_time": "2023-01-15T14:04:05.599Z"
   },
   {
    "duration": 21,
    "start_time": "2023-01-15T14:04:08.794Z"
   },
   {
    "duration": 15,
    "start_time": "2023-01-15T14:04:08.818Z"
   },
   {
    "duration": 19,
    "start_time": "2023-01-15T14:04:08.835Z"
   },
   {
    "duration": 10,
    "start_time": "2023-01-15T14:04:08.856Z"
   },
   {
    "duration": 4,
    "start_time": "2023-01-15T14:04:08.868Z"
   },
   {
    "duration": 39,
    "start_time": "2023-01-15T14:04:08.874Z"
   },
   {
    "duration": 13,
    "start_time": "2023-01-15T14:04:08.916Z"
   },
   {
    "duration": 8,
    "start_time": "2023-01-15T14:04:08.934Z"
   },
   {
    "duration": 13,
    "start_time": "2023-01-15T14:04:08.944Z"
   },
   {
    "duration": 11,
    "start_time": "2023-01-15T14:04:08.958Z"
   },
   {
    "duration": 50,
    "start_time": "2023-01-15T14:04:08.971Z"
   },
   {
    "duration": 22,
    "start_time": "2023-01-15T14:04:09.023Z"
   },
   {
    "duration": 37,
    "start_time": "2023-01-15T14:04:09.048Z"
   },
   {
    "duration": 1036,
    "start_time": "2023-01-15T14:04:09.087Z"
   },
   {
    "duration": 14,
    "start_time": "2023-01-15T14:04:10.126Z"
   },
   {
    "duration": 957,
    "start_time": "2023-01-15T14:04:10.143Z"
   },
   {
    "duration": 1116,
    "start_time": "2023-01-15T14:04:11.102Z"
   },
   {
    "duration": 726,
    "start_time": "2023-01-15T14:04:12.221Z"
   },
   {
    "duration": 5,
    "start_time": "2023-01-15T14:04:12.951Z"
   },
   {
    "duration": 661,
    "start_time": "2023-01-15T14:04:12.958Z"
   },
   {
    "duration": 10,
    "start_time": "2023-01-15T14:04:13.621Z"
   },
   {
    "duration": 1048,
    "start_time": "2023-01-15T14:04:13.633Z"
   },
   {
    "duration": 3,
    "start_time": "2023-01-15T14:04:14.683Z"
   },
   {
    "duration": 8,
    "start_time": "2023-01-15T14:04:14.687Z"
   },
   {
    "duration": 26,
    "start_time": "2023-01-15T14:04:14.696Z"
   },
   {
    "duration": 12,
    "start_time": "2023-01-15T14:04:14.724Z"
   },
   {
    "duration": 7,
    "start_time": "2023-01-15T14:04:14.738Z"
   },
   {
    "duration": 10,
    "start_time": "2023-01-15T14:04:14.746Z"
   },
   {
    "duration": 3054,
    "start_time": "2023-01-15T14:04:14.758Z"
   },
   {
    "duration": 4,
    "start_time": "2023-01-15T14:04:17.814Z"
   },
   {
    "duration": 19405,
    "start_time": "2023-01-15T14:04:17.820Z"
   },
   {
    "duration": 3,
    "start_time": "2023-01-15T14:04:37.227Z"
   },
   {
    "duration": 635027,
    "start_time": "2023-01-15T14:04:37.232Z"
   },
   {
    "duration": 5,
    "start_time": "2023-01-15T14:29:11.546Z"
   },
   {
    "duration": 51,
    "start_time": "2023-01-15T15:06:15.462Z"
   },
   {
    "duration": 0,
    "start_time": "2023-01-15T15:06:15.515Z"
   },
   {
    "duration": 0,
    "start_time": "2023-01-15T15:06:15.516Z"
   },
   {
    "duration": 0,
    "start_time": "2023-01-15T15:06:15.518Z"
   },
   {
    "duration": 0,
    "start_time": "2023-01-15T15:06:15.519Z"
   },
   {
    "duration": 0,
    "start_time": "2023-01-15T15:06:15.520Z"
   },
   {
    "duration": 0,
    "start_time": "2023-01-15T15:06:15.521Z"
   },
   {
    "duration": 0,
    "start_time": "2023-01-15T15:06:15.527Z"
   },
   {
    "duration": 0,
    "start_time": "2023-01-15T15:06:15.528Z"
   },
   {
    "duration": 0,
    "start_time": "2023-01-15T15:06:15.529Z"
   },
   {
    "duration": 0,
    "start_time": "2023-01-15T15:06:15.531Z"
   },
   {
    "duration": 1892,
    "start_time": "2023-01-15T15:06:28.675Z"
   },
   {
    "duration": 2935,
    "start_time": "2023-01-15T15:06:30.569Z"
   },
   {
    "duration": 31,
    "start_time": "2023-01-15T15:06:33.505Z"
   },
   {
    "duration": 17,
    "start_time": "2023-01-15T15:06:33.544Z"
   },
   {
    "duration": 19,
    "start_time": "2023-01-15T15:06:33.562Z"
   },
   {
    "duration": 11,
    "start_time": "2023-01-15T15:06:33.583Z"
   },
   {
    "duration": 3,
    "start_time": "2023-01-15T15:06:33.596Z"
   },
   {
    "duration": 26,
    "start_time": "2023-01-15T15:06:33.601Z"
   },
   {
    "duration": 42,
    "start_time": "2023-01-15T15:06:33.629Z"
   },
   {
    "duration": 9,
    "start_time": "2023-01-15T15:06:33.673Z"
   },
   {
    "duration": 12,
    "start_time": "2023-01-15T15:06:33.684Z"
   },
   {
    "duration": 21,
    "start_time": "2023-01-15T15:06:33.698Z"
   },
   {
    "duration": 57,
    "start_time": "2023-01-15T15:06:33.723Z"
   },
   {
    "duration": 15,
    "start_time": "2023-01-15T15:06:33.782Z"
   },
   {
    "duration": 31,
    "start_time": "2023-01-15T15:06:33.799Z"
   },
   {
    "duration": 1241,
    "start_time": "2023-01-15T15:06:33.832Z"
   },
   {
    "duration": 14,
    "start_time": "2023-01-15T15:06:35.074Z"
   },
   {
    "duration": 1117,
    "start_time": "2023-01-15T15:06:35.090Z"
   },
   {
    "duration": 1228,
    "start_time": "2023-01-15T15:06:36.210Z"
   },
   {
    "duration": 841,
    "start_time": "2023-01-15T15:06:37.440Z"
   },
   {
    "duration": 5,
    "start_time": "2023-01-15T15:06:38.284Z"
   },
   {
    "duration": 743,
    "start_time": "2023-01-15T15:06:38.291Z"
   },
   {
    "duration": 8,
    "start_time": "2023-01-15T15:06:39.036Z"
   },
   {
    "duration": 1146,
    "start_time": "2023-01-15T15:06:39.047Z"
   },
   {
    "duration": 4,
    "start_time": "2023-01-15T15:06:40.195Z"
   },
   {
    "duration": 28,
    "start_time": "2023-01-15T15:06:40.200Z"
   },
   {
    "duration": 38,
    "start_time": "2023-01-15T15:06:40.234Z"
   },
   {
    "duration": 14,
    "start_time": "2023-01-15T15:06:40.275Z"
   },
   {
    "duration": 15,
    "start_time": "2023-01-15T15:06:40.291Z"
   },
   {
    "duration": 43,
    "start_time": "2023-01-15T15:06:40.308Z"
   },
   {
    "duration": 4399,
    "start_time": "2023-01-15T15:06:40.354Z"
   },
   {
    "duration": 4,
    "start_time": "2023-01-15T15:06:44.758Z"
   },
   {
    "duration": 20991,
    "start_time": "2023-01-15T15:06:44.825Z"
   },
   {
    "duration": 14,
    "start_time": "2023-01-15T15:07:05.822Z"
   },
   {
    "duration": 88,
    "start_time": "2023-01-15T15:07:10.162Z"
   },
   {
    "duration": 5,
    "start_time": "2023-01-15T15:07:56.736Z"
   },
   {
    "duration": 217726,
    "start_time": "2023-01-15T15:07:57.246Z"
   },
   {
    "duration": 4,
    "start_time": "2023-01-15T15:14:38.103Z"
   },
   {
    "duration": 4,
    "start_time": "2023-01-15T15:14:42.089Z"
   },
   {
    "duration": 737,
    "start_time": "2023-01-15T15:14:42.096Z"
   },
   {
    "duration": 20,
    "start_time": "2023-01-15T15:14:42.839Z"
   },
   {
    "duration": 14,
    "start_time": "2023-01-15T15:14:42.860Z"
   },
   {
    "duration": 16,
    "start_time": "2023-01-15T15:14:42.876Z"
   },
   {
    "duration": 10,
    "start_time": "2023-01-15T15:14:42.895Z"
   },
   {
    "duration": 16,
    "start_time": "2023-01-15T15:14:42.922Z"
   },
   {
    "duration": 19,
    "start_time": "2023-01-15T15:14:42.940Z"
   },
   {
    "duration": 20,
    "start_time": "2023-01-15T15:14:42.961Z"
   },
   {
    "duration": 15,
    "start_time": "2023-01-15T15:14:42.984Z"
   },
   {
    "duration": 16,
    "start_time": "2023-01-15T15:14:43.002Z"
   },
   {
    "duration": 29,
    "start_time": "2023-01-15T15:14:43.020Z"
   },
   {
    "duration": 25,
    "start_time": "2023-01-15T15:14:43.052Z"
   },
   {
    "duration": 14,
    "start_time": "2023-01-15T15:14:43.082Z"
   },
   {
    "duration": 30,
    "start_time": "2023-01-15T15:14:43.098Z"
   },
   {
    "duration": 993,
    "start_time": "2023-01-15T15:14:43.130Z"
   },
   {
    "duration": 14,
    "start_time": "2023-01-15T15:14:44.129Z"
   },
   {
    "duration": 1299,
    "start_time": "2023-01-15T15:14:44.146Z"
   },
   {
    "duration": 1129,
    "start_time": "2023-01-15T15:14:45.447Z"
   },
   {
    "duration": 707,
    "start_time": "2023-01-15T15:14:46.579Z"
   },
   {
    "duration": 4,
    "start_time": "2023-01-15T15:14:47.288Z"
   },
   {
    "duration": 849,
    "start_time": "2023-01-15T15:14:47.294Z"
   },
   {
    "duration": 9,
    "start_time": "2023-01-15T15:14:48.145Z"
   },
   {
    "duration": 956,
    "start_time": "2023-01-15T15:14:48.155Z"
   },
   {
    "duration": 16,
    "start_time": "2023-01-15T15:14:49.113Z"
   },
   {
    "duration": 35,
    "start_time": "2023-01-15T15:14:49.133Z"
   },
   {
    "duration": 30,
    "start_time": "2023-01-15T15:14:49.170Z"
   },
   {
    "duration": 45,
    "start_time": "2023-01-15T15:14:49.202Z"
   },
   {
    "duration": 26,
    "start_time": "2023-01-15T15:14:49.249Z"
   },
   {
    "duration": 24,
    "start_time": "2023-01-15T15:14:49.277Z"
   },
   {
    "duration": 5732,
    "start_time": "2023-01-15T15:14:49.303Z"
   },
   {
    "duration": 5,
    "start_time": "2023-01-15T15:14:55.042Z"
   },
   {
    "duration": 15625,
    "start_time": "2023-01-15T15:14:55.049Z"
   },
   {
    "duration": 3,
    "start_time": "2023-01-15T15:15:10.676Z"
   },
   {
    "duration": 72,
    "start_time": "2023-01-15T15:15:10.681Z"
   },
   {
    "duration": 32422,
    "start_time": "2023-01-15T15:15:10.756Z"
   },
   {
    "duration": 0,
    "start_time": "2023-01-15T15:15:43.180Z"
   },
   {
    "duration": 0,
    "start_time": "2023-01-15T15:15:43.181Z"
   },
   {
    "duration": 0,
    "start_time": "2023-01-15T15:15:43.183Z"
   },
   {
    "duration": 0,
    "start_time": "2023-01-15T15:15:43.184Z"
   },
   {
    "duration": 0,
    "start_time": "2023-01-15T15:15:43.185Z"
   },
   {
    "duration": 0,
    "start_time": "2023-01-15T15:15:43.186Z"
   },
   {
    "duration": 0,
    "start_time": "2023-01-15T15:15:43.187Z"
   },
   {
    "duration": 0,
    "start_time": "2023-01-15T15:15:43.188Z"
   },
   {
    "duration": 0,
    "start_time": "2023-01-15T15:15:43.189Z"
   },
   {
    "duration": 0,
    "start_time": "2023-01-15T15:15:43.190Z"
   },
   {
    "duration": 0,
    "start_time": "2023-01-15T15:15:43.191Z"
   },
   {
    "duration": 6,
    "start_time": "2023-01-15T15:16:12.187Z"
   },
   {
    "duration": 769,
    "start_time": "2023-01-15T15:16:12.195Z"
   },
   {
    "duration": 21,
    "start_time": "2023-01-15T15:16:12.966Z"
   },
   {
    "duration": 42,
    "start_time": "2023-01-15T15:16:12.988Z"
   },
   {
    "duration": 33,
    "start_time": "2023-01-15T15:16:13.032Z"
   },
   {
    "duration": 13,
    "start_time": "2023-01-15T15:16:13.068Z"
   },
   {
    "duration": 4,
    "start_time": "2023-01-15T15:16:13.084Z"
   },
   {
    "duration": 26,
    "start_time": "2023-01-15T15:16:13.090Z"
   },
   {
    "duration": 32,
    "start_time": "2023-01-15T15:16:13.118Z"
   },
   {
    "duration": 12,
    "start_time": "2023-01-15T15:16:13.152Z"
   },
   {
    "duration": 10,
    "start_time": "2023-01-15T15:16:13.166Z"
   },
   {
    "duration": 9,
    "start_time": "2023-01-15T15:16:13.177Z"
   },
   {
    "duration": 21,
    "start_time": "2023-01-15T15:16:13.190Z"
   },
   {
    "duration": 27,
    "start_time": "2023-01-15T15:16:13.213Z"
   },
   {
    "duration": 21,
    "start_time": "2023-01-15T15:16:13.246Z"
   },
   {
    "duration": 1234,
    "start_time": "2023-01-15T15:16:13.268Z"
   },
   {
    "duration": 26,
    "start_time": "2023-01-15T15:16:14.506Z"
   },
   {
    "duration": 1128,
    "start_time": "2023-01-15T15:16:14.533Z"
   },
   {
    "duration": 1011,
    "start_time": "2023-01-15T15:16:15.663Z"
   },
   {
    "duration": 861,
    "start_time": "2023-01-15T15:16:16.676Z"
   },
   {
    "duration": 5,
    "start_time": "2023-01-15T15:16:17.539Z"
   },
   {
    "duration": 712,
    "start_time": "2023-01-15T15:16:17.546Z"
   },
   {
    "duration": 8,
    "start_time": "2023-01-15T15:16:18.260Z"
   },
   {
    "duration": 1143,
    "start_time": "2023-01-15T15:16:18.269Z"
   },
   {
    "duration": 20,
    "start_time": "2023-01-15T15:16:19.414Z"
   },
   {
    "duration": 9,
    "start_time": "2023-01-15T15:16:19.439Z"
   },
   {
    "duration": 12,
    "start_time": "2023-01-15T15:16:19.451Z"
   },
   {
    "duration": 12,
    "start_time": "2023-01-15T15:16:19.465Z"
   },
   {
    "duration": 6,
    "start_time": "2023-01-15T15:16:19.480Z"
   },
   {
    "duration": 9,
    "start_time": "2023-01-15T15:16:19.488Z"
   },
   {
    "duration": 5443,
    "start_time": "2023-01-15T15:16:19.499Z"
   },
   {
    "duration": 64,
    "start_time": "2023-01-15T15:16:24.961Z"
   },
   {
    "duration": 20249,
    "start_time": "2023-01-15T15:16:25.029Z"
   },
   {
    "duration": 3,
    "start_time": "2023-01-15T15:16:45.280Z"
   },
   {
    "duration": 7,
    "start_time": "2023-01-15T15:16:45.285Z"
   },
   {
    "duration": 121949,
    "start_time": "2023-01-15T15:16:45.294Z"
   },
   {
    "duration": 43,
    "start_time": "2023-01-15T15:22:33.898Z"
   },
   {
    "duration": 861,
    "start_time": "2023-01-15T15:22:33.999Z"
   },
   {
    "duration": 19,
    "start_time": "2023-01-15T15:22:34.891Z"
   },
   {
    "duration": 57,
    "start_time": "2023-01-15T15:22:34.931Z"
   },
   {
    "duration": 65,
    "start_time": "2023-01-15T15:22:35.003Z"
   },
   {
    "duration": 36,
    "start_time": "2023-01-15T15:22:35.076Z"
   },
   {
    "duration": 23,
    "start_time": "2023-01-15T15:22:35.156Z"
   },
   {
    "duration": 16,
    "start_time": "2023-01-15T15:22:35.201Z"
   },
   {
    "duration": 46,
    "start_time": "2023-01-15T15:22:35.254Z"
   },
   {
    "duration": 44,
    "start_time": "2023-01-15T15:22:35.320Z"
   },
   {
    "duration": 19,
    "start_time": "2023-01-15T15:22:35.390Z"
   },
   {
    "duration": 17,
    "start_time": "2023-01-15T15:22:35.475Z"
   },
   {
    "duration": 68,
    "start_time": "2023-01-15T15:22:35.532Z"
   },
   {
    "duration": 14,
    "start_time": "2023-01-15T15:22:36.842Z"
   },
   {
    "duration": 24,
    "start_time": "2023-01-15T15:22:36.879Z"
   },
   {
    "duration": 1066,
    "start_time": "2023-01-15T15:22:38.135Z"
   },
   {
    "duration": 10,
    "start_time": "2023-01-15T15:22:40.457Z"
   },
   {
    "duration": 1092,
    "start_time": "2023-01-15T15:22:41.383Z"
   },
   {
    "duration": 1235,
    "start_time": "2023-01-15T15:22:42.483Z"
   },
   {
    "duration": 970,
    "start_time": "2023-01-15T15:22:44.528Z"
   },
   {
    "duration": 38,
    "start_time": "2023-01-15T15:22:45.522Z"
   },
   {
    "duration": 719,
    "start_time": "2023-01-15T15:22:46.712Z"
   },
   {
    "duration": 36,
    "start_time": "2023-01-15T15:22:47.443Z"
   },
   {
    "duration": 1270,
    "start_time": "2023-01-15T15:22:47.500Z"
   },
   {
    "duration": 23,
    "start_time": "2023-01-15T15:22:48.781Z"
   },
   {
    "duration": 23,
    "start_time": "2023-01-15T15:22:48.870Z"
   },
   {
    "duration": 65,
    "start_time": "2023-01-15T15:22:48.919Z"
   },
   {
    "duration": 83,
    "start_time": "2023-01-15T15:22:49.016Z"
   },
   {
    "duration": 0,
    "start_time": "2023-01-15T15:22:49.108Z"
   },
   {
    "duration": 0,
    "start_time": "2023-01-15T15:22:49.110Z"
   },
   {
    "duration": 0,
    "start_time": "2023-01-15T15:22:49.113Z"
   },
   {
    "duration": 0,
    "start_time": "2023-01-15T15:22:49.115Z"
   },
   {
    "duration": 0,
    "start_time": "2023-01-15T15:22:49.118Z"
   },
   {
    "duration": 0,
    "start_time": "2023-01-15T15:22:49.120Z"
   },
   {
    "duration": 0,
    "start_time": "2023-01-15T15:22:49.123Z"
   },
   {
    "duration": 1,
    "start_time": "2023-01-15T15:22:49.127Z"
   },
   {
    "duration": 2,
    "start_time": "2023-01-15T15:22:49.130Z"
   },
   {
    "duration": 0,
    "start_time": "2023-01-15T15:22:49.134Z"
   },
   {
    "duration": 0,
    "start_time": "2023-01-15T15:22:49.136Z"
   },
   {
    "duration": 0,
    "start_time": "2023-01-15T15:22:49.138Z"
   },
   {
    "duration": 0,
    "start_time": "2023-01-15T15:22:49.140Z"
   },
   {
    "duration": 0,
    "start_time": "2023-01-15T15:22:49.147Z"
   },
   {
    "duration": 0,
    "start_time": "2023-01-15T15:22:49.151Z"
   },
   {
    "duration": 0,
    "start_time": "2023-01-15T15:22:49.153Z"
   },
   {
    "duration": 0,
    "start_time": "2023-01-15T15:22:49.155Z"
   },
   {
    "duration": 0,
    "start_time": "2023-01-15T15:22:49.163Z"
   },
   {
    "duration": 0,
    "start_time": "2023-01-15T15:22:49.165Z"
   },
   {
    "duration": 8,
    "start_time": "2023-01-15T15:23:17.647Z"
   },
   {
    "duration": 6,
    "start_time": "2023-01-15T15:23:31.793Z"
   },
   {
    "duration": 711,
    "start_time": "2023-01-15T15:23:31.802Z"
   },
   {
    "duration": 29,
    "start_time": "2023-01-15T15:23:32.515Z"
   },
   {
    "duration": 21,
    "start_time": "2023-01-15T15:23:32.546Z"
   },
   {
    "duration": 22,
    "start_time": "2023-01-15T15:23:32.570Z"
   },
   {
    "duration": 19,
    "start_time": "2023-01-15T15:23:32.594Z"
   },
   {
    "duration": 5,
    "start_time": "2023-01-15T15:23:32.615Z"
   },
   {
    "duration": 16,
    "start_time": "2023-01-15T15:23:32.622Z"
   },
   {
    "duration": 17,
    "start_time": "2023-01-15T15:23:32.640Z"
   },
   {
    "duration": 15,
    "start_time": "2023-01-15T15:23:32.659Z"
   },
   {
    "duration": 7,
    "start_time": "2023-01-15T15:23:32.677Z"
   },
   {
    "duration": 67,
    "start_time": "2023-01-15T15:23:32.687Z"
   },
   {
    "duration": 98,
    "start_time": "2023-01-15T15:23:32.757Z"
   },
   {
    "duration": 34,
    "start_time": "2023-01-15T15:23:32.858Z"
   },
   {
    "duration": 64,
    "start_time": "2023-01-15T15:23:32.895Z"
   },
   {
    "duration": 948,
    "start_time": "2023-01-15T15:23:32.961Z"
   },
   {
    "duration": 22,
    "start_time": "2023-01-15T15:23:33.912Z"
   },
   {
    "duration": 1262,
    "start_time": "2023-01-15T15:23:33.938Z"
   },
   {
    "duration": 1169,
    "start_time": "2023-01-15T15:23:35.202Z"
   },
   {
    "duration": 724,
    "start_time": "2023-01-15T15:23:36.373Z"
   },
   {
    "duration": 4,
    "start_time": "2023-01-15T15:23:37.100Z"
   },
   {
    "duration": 907,
    "start_time": "2023-01-15T15:23:37.107Z"
   },
   {
    "duration": 12,
    "start_time": "2023-01-15T15:23:38.016Z"
   },
   {
    "duration": 1006,
    "start_time": "2023-01-15T15:23:38.029Z"
   },
   {
    "duration": 3,
    "start_time": "2023-01-15T15:23:39.037Z"
   },
   {
    "duration": 12,
    "start_time": "2023-01-15T15:23:39.043Z"
   },
   {
    "duration": 10,
    "start_time": "2023-01-15T15:23:39.056Z"
   },
   {
    "duration": 15,
    "start_time": "2023-01-15T15:23:39.068Z"
   },
   {
    "duration": 7,
    "start_time": "2023-01-15T15:23:39.086Z"
   },
   {
    "duration": 9,
    "start_time": "2023-01-15T15:23:39.095Z"
   },
   {
    "duration": 4330,
    "start_time": "2023-01-15T15:23:39.106Z"
   },
   {
    "duration": 5,
    "start_time": "2023-01-15T15:23:43.444Z"
   },
   {
    "duration": 20840,
    "start_time": "2023-01-15T15:23:43.451Z"
   },
   {
    "duration": 6,
    "start_time": "2023-01-15T15:24:04.293Z"
   },
   {
    "duration": 8,
    "start_time": "2023-01-15T15:24:04.301Z"
   },
   {
    "duration": 221334,
    "start_time": "2023-01-15T15:24:04.312Z"
   },
   {
    "duration": 231100,
    "start_time": "2023-01-15T15:27:45.648Z"
   },
   {
    "duration": 3,
    "start_time": "2023-01-15T15:31:36.750Z"
   },
   {
    "duration": 8,
    "start_time": "2023-01-15T15:31:36.755Z"
   },
   {
    "duration": 7,
    "start_time": "2023-01-15T15:31:36.764Z"
   },
   {
    "duration": 7,
    "start_time": "2023-01-15T15:31:36.773Z"
   },
   {
    "duration": 16,
    "start_time": "2023-01-15T15:31:36.782Z"
   },
   {
    "duration": 0,
    "start_time": "2023-01-15T15:31:36.800Z"
   },
   {
    "duration": 0,
    "start_time": "2023-01-15T15:31:36.801Z"
   },
   {
    "duration": 0,
    "start_time": "2023-01-15T15:31:36.825Z"
   },
   {
    "duration": 0,
    "start_time": "2023-01-15T15:31:36.826Z"
   },
   {
    "duration": 0,
    "start_time": "2023-01-15T15:31:36.830Z"
   },
   {
    "duration": 4,
    "start_time": "2023-01-15T15:32:27.056Z"
   },
   {
    "duration": 5,
    "start_time": "2023-01-15T15:35:26.437Z"
   },
   {
    "duration": 4,
    "start_time": "2023-01-15T15:35:42.403Z"
   },
   {
    "duration": 3,
    "start_time": "2023-01-15T15:37:30.036Z"
   },
   {
    "duration": 4,
    "start_time": "2023-01-15T15:37:31.004Z"
   },
   {
    "duration": 4,
    "start_time": "2023-01-15T15:37:48.450Z"
   },
   {
    "duration": 680,
    "start_time": "2023-01-15T15:37:48.455Z"
   },
   {
    "duration": 23,
    "start_time": "2023-01-15T15:37:49.137Z"
   },
   {
    "duration": 34,
    "start_time": "2023-01-15T15:37:49.164Z"
   },
   {
    "duration": 31,
    "start_time": "2023-01-15T15:37:49.201Z"
   },
   {
    "duration": 17,
    "start_time": "2023-01-15T15:37:49.235Z"
   },
   {
    "duration": 45,
    "start_time": "2023-01-15T15:37:49.254Z"
   },
   {
    "duration": 40,
    "start_time": "2023-01-15T15:37:49.302Z"
   },
   {
    "duration": 31,
    "start_time": "2023-01-15T15:37:49.345Z"
   },
   {
    "duration": 20,
    "start_time": "2023-01-15T15:37:49.378Z"
   },
   {
    "duration": 21,
    "start_time": "2023-01-15T15:37:49.402Z"
   },
   {
    "duration": 24,
    "start_time": "2023-01-15T15:37:49.425Z"
   },
   {
    "duration": 32,
    "start_time": "2023-01-15T15:37:49.451Z"
   },
   {
    "duration": 44,
    "start_time": "2023-01-15T15:37:49.485Z"
   },
   {
    "duration": 54,
    "start_time": "2023-01-15T15:37:49.531Z"
   },
   {
    "duration": 957,
    "start_time": "2023-01-15T15:37:49.587Z"
   },
   {
    "duration": 8,
    "start_time": "2023-01-15T15:37:50.546Z"
   },
   {
    "duration": 1094,
    "start_time": "2023-01-15T15:37:50.555Z"
   },
   {
    "duration": 953,
    "start_time": "2023-01-15T15:37:51.651Z"
   },
   {
    "duration": 835,
    "start_time": "2023-01-15T15:37:52.606Z"
   },
   {
    "duration": 5,
    "start_time": "2023-01-15T15:37:53.443Z"
   },
   {
    "duration": 762,
    "start_time": "2023-01-15T15:37:53.449Z"
   },
   {
    "duration": 14,
    "start_time": "2023-01-15T15:37:54.213Z"
   },
   {
    "duration": 1179,
    "start_time": "2023-01-15T15:37:54.230Z"
   },
   {
    "duration": 4,
    "start_time": "2023-01-15T15:37:55.411Z"
   },
   {
    "duration": 24,
    "start_time": "2023-01-15T15:37:55.425Z"
   },
   {
    "duration": 37,
    "start_time": "2023-01-15T15:37:55.451Z"
   },
   {
    "duration": 23,
    "start_time": "2023-01-15T15:37:55.490Z"
   },
   {
    "duration": 37,
    "start_time": "2023-01-15T15:37:55.516Z"
   },
   {
    "duration": 19,
    "start_time": "2023-01-15T15:37:55.556Z"
   },
   {
    "duration": 4254,
    "start_time": "2023-01-15T15:37:55.578Z"
   },
   {
    "duration": 5,
    "start_time": "2023-01-15T15:37:59.834Z"
   },
   {
    "duration": 20331,
    "start_time": "2023-01-15T15:37:59.842Z"
   },
   {
    "duration": 3,
    "start_time": "2023-01-15T15:38:20.175Z"
   },
   {
    "duration": 19,
    "start_time": "2023-01-15T15:38:20.180Z"
   },
   {
    "duration": 217623,
    "start_time": "2023-01-15T15:38:20.200Z"
   },
   {
    "duration": 8,
    "start_time": "2023-01-15T15:41:57.829Z"
   },
   {
    "duration": 219834,
    "start_time": "2023-01-15T15:41:57.838Z"
   },
   {
    "duration": 3,
    "start_time": "2023-01-15T15:45:37.674Z"
   },
   {
    "duration": 8,
    "start_time": "2023-01-15T15:45:37.679Z"
   },
   {
    "duration": 32,
    "start_time": "2023-01-15T15:45:37.688Z"
   },
   {
    "duration": 19,
    "start_time": "2023-01-15T15:45:37.725Z"
   },
   {
    "duration": 11,
    "start_time": "2023-01-15T15:45:37.747Z"
   },
   {
    "duration": 12,
    "start_time": "2023-01-15T15:45:37.761Z"
   },
   {
    "duration": 9,
    "start_time": "2023-01-15T15:45:37.775Z"
   },
   {
    "duration": 3253,
    "start_time": "2023-01-15T15:45:37.786Z"
   },
   {
    "duration": 3,
    "start_time": "2023-01-15T15:45:41.041Z"
   },
   {
    "duration": 11,
    "start_time": "2023-01-15T15:45:41.046Z"
   },
   {
    "duration": 23,
    "start_time": "2023-01-15T15:45:41.059Z"
   },
   {
    "duration": 1474,
    "start_time": "2023-01-15T15:51:24.390Z"
   },
   {
    "duration": 5879,
    "start_time": "2023-01-15T15:52:59.824Z"
   },
   {
    "duration": 8,
    "start_time": "2023-01-15T15:53:12.632Z"
   },
   {
    "duration": 2,
    "start_time": "2023-01-15T15:53:13.281Z"
   },
   {
    "duration": 3,
    "start_time": "2023-01-15T15:53:13.967Z"
   },
   {
    "duration": 5,
    "start_time": "2023-01-15T15:53:14.960Z"
   },
   {
    "duration": 3,
    "start_time": "2023-01-15T15:54:18.095Z"
   },
   {
    "duration": 4,
    "start_time": "2023-01-15T15:54:19.657Z"
   },
   {
    "duration": 5,
    "start_time": "2023-01-15T15:56:32.338Z"
   },
   {
    "duration": 1446,
    "start_time": "2023-01-15T15:56:32.793Z"
   },
   {
    "duration": 5,
    "start_time": "2023-01-15T15:56:37.070Z"
   },
   {
    "duration": 8,
    "start_time": "2023-01-15T15:56:42.663Z"
   },
   {
    "duration": 3,
    "start_time": "2023-01-15T15:56:43.410Z"
   },
   {
    "duration": 4,
    "start_time": "2023-01-15T15:58:34.816Z"
   },
   {
    "duration": 691,
    "start_time": "2023-01-15T15:58:34.822Z"
   },
   {
    "duration": 25,
    "start_time": "2023-01-15T15:58:35.515Z"
   },
   {
    "duration": 14,
    "start_time": "2023-01-15T15:58:35.542Z"
   },
   {
    "duration": 18,
    "start_time": "2023-01-15T15:58:35.559Z"
   },
   {
    "duration": 10,
    "start_time": "2023-01-15T15:58:35.579Z"
   },
   {
    "duration": 36,
    "start_time": "2023-01-15T15:58:35.590Z"
   },
   {
    "duration": 10,
    "start_time": "2023-01-15T15:58:35.627Z"
   },
   {
    "duration": 13,
    "start_time": "2023-01-15T15:58:35.639Z"
   },
   {
    "duration": 8,
    "start_time": "2023-01-15T15:58:35.654Z"
   },
   {
    "duration": 7,
    "start_time": "2023-01-15T15:58:35.664Z"
   },
   {
    "duration": 24,
    "start_time": "2023-01-15T15:58:35.672Z"
   },
   {
    "duration": 19,
    "start_time": "2023-01-15T15:58:35.697Z"
   },
   {
    "duration": 23,
    "start_time": "2023-01-15T15:58:35.719Z"
   },
   {
    "duration": 21,
    "start_time": "2023-01-15T15:58:35.744Z"
   },
   {
    "duration": 1042,
    "start_time": "2023-01-15T15:58:35.767Z"
   },
   {
    "duration": 22,
    "start_time": "2023-01-15T15:58:36.811Z"
   },
   {
    "duration": 910,
    "start_time": "2023-01-15T15:58:36.835Z"
   },
   {
    "duration": 1133,
    "start_time": "2023-01-15T15:58:37.748Z"
   },
   {
    "duration": 770,
    "start_time": "2023-01-15T15:58:38.884Z"
   },
   {
    "duration": 4,
    "start_time": "2023-01-15T15:58:39.655Z"
   },
   {
    "duration": 679,
    "start_time": "2023-01-15T15:58:39.661Z"
   },
   {
    "duration": 8,
    "start_time": "2023-01-15T15:58:40.341Z"
   },
   {
    "duration": 1026,
    "start_time": "2023-01-15T15:58:40.351Z"
   },
   {
    "duration": 4,
    "start_time": "2023-01-15T15:58:41.379Z"
   },
   {
    "duration": 12,
    "start_time": "2023-01-15T15:58:41.384Z"
   },
   {
    "duration": 20,
    "start_time": "2023-01-15T15:58:41.398Z"
   },
   {
    "duration": 20,
    "start_time": "2023-01-15T15:58:41.420Z"
   },
   {
    "duration": 14,
    "start_time": "2023-01-15T15:58:41.442Z"
   },
   {
    "duration": 11,
    "start_time": "2023-01-15T15:58:41.458Z"
   },
   {
    "duration": 3958,
    "start_time": "2023-01-15T15:58:41.471Z"
   },
   {
    "duration": 6,
    "start_time": "2023-01-15T15:58:45.433Z"
   },
   {
    "duration": 19639,
    "start_time": "2023-01-15T15:58:45.523Z"
   },
   {
    "duration": 3,
    "start_time": "2023-01-15T15:59:05.164Z"
   },
   {
    "duration": 117268,
    "start_time": "2023-01-15T15:59:05.168Z"
   },
   {
    "duration": 1484,
    "start_time": "2023-01-15T16:10:54.122Z"
   },
   {
    "duration": 743,
    "start_time": "2023-01-15T16:10:55.607Z"
   },
   {
    "duration": 20,
    "start_time": "2023-01-15T16:10:56.352Z"
   },
   {
    "duration": 15,
    "start_time": "2023-01-15T16:10:56.374Z"
   },
   {
    "duration": 46,
    "start_time": "2023-01-15T16:10:56.391Z"
   },
   {
    "duration": 12,
    "start_time": "2023-01-15T16:10:56.439Z"
   },
   {
    "duration": 3,
    "start_time": "2023-01-15T16:10:56.453Z"
   },
   {
    "duration": 6,
    "start_time": "2023-01-15T16:10:56.458Z"
   },
   {
    "duration": 13,
    "start_time": "2023-01-15T16:10:56.466Z"
   },
   {
    "duration": 6,
    "start_time": "2023-01-15T16:10:56.480Z"
   },
   {
    "duration": 44,
    "start_time": "2023-01-15T16:10:56.488Z"
   },
   {
    "duration": 9,
    "start_time": "2023-01-15T16:10:56.534Z"
   },
   {
    "duration": 18,
    "start_time": "2023-01-15T16:10:56.545Z"
   },
   {
    "duration": 45,
    "start_time": "2023-01-15T16:10:56.566Z"
   },
   {
    "duration": 34,
    "start_time": "2023-01-15T16:10:56.612Z"
   },
   {
    "duration": 120,
    "start_time": "2023-01-15T16:10:56.648Z"
   },
   {
    "duration": 0,
    "start_time": "2023-01-15T16:10:56.769Z"
   },
   {
    "duration": 0,
    "start_time": "2023-01-15T16:10:56.771Z"
   },
   {
    "duration": 0,
    "start_time": "2023-01-15T16:10:56.772Z"
   },
   {
    "duration": 0,
    "start_time": "2023-01-15T16:10:56.773Z"
   },
   {
    "duration": 0,
    "start_time": "2023-01-15T16:10:56.774Z"
   },
   {
    "duration": 0,
    "start_time": "2023-01-15T16:10:56.775Z"
   },
   {
    "duration": 0,
    "start_time": "2023-01-15T16:10:56.776Z"
   },
   {
    "duration": 0,
    "start_time": "2023-01-15T16:10:56.777Z"
   },
   {
    "duration": 0,
    "start_time": "2023-01-15T16:10:56.778Z"
   },
   {
    "duration": 0,
    "start_time": "2023-01-15T16:10:56.779Z"
   },
   {
    "duration": 0,
    "start_time": "2023-01-15T16:10:56.780Z"
   },
   {
    "duration": 0,
    "start_time": "2023-01-15T16:10:56.781Z"
   },
   {
    "duration": 1,
    "start_time": "2023-01-15T16:10:56.782Z"
   },
   {
    "duration": 0,
    "start_time": "2023-01-15T16:10:56.783Z"
   },
   {
    "duration": 0,
    "start_time": "2023-01-15T16:10:56.785Z"
   },
   {
    "duration": 0,
    "start_time": "2023-01-15T16:10:56.786Z"
   },
   {
    "duration": 0,
    "start_time": "2023-01-15T16:10:56.788Z"
   },
   {
    "duration": 0,
    "start_time": "2023-01-15T16:10:56.789Z"
   },
   {
    "duration": 0,
    "start_time": "2023-01-15T16:10:56.822Z"
   },
   {
    "duration": 0,
    "start_time": "2023-01-15T16:10:56.823Z"
   },
   {
    "duration": 0,
    "start_time": "2023-01-15T16:10:56.824Z"
   },
   {
    "duration": 0,
    "start_time": "2023-01-15T16:10:56.825Z"
   },
   {
    "duration": 0,
    "start_time": "2023-01-15T16:10:56.826Z"
   },
   {
    "duration": 0,
    "start_time": "2023-01-15T16:10:56.827Z"
   },
   {
    "duration": 0,
    "start_time": "2023-01-15T16:10:56.828Z"
   },
   {
    "duration": 0,
    "start_time": "2023-01-15T16:10:56.828Z"
   },
   {
    "duration": 0,
    "start_time": "2023-01-15T16:10:56.829Z"
   },
   {
    "duration": 0,
    "start_time": "2023-01-15T16:10:56.831Z"
   },
   {
    "duration": 0,
    "start_time": "2023-01-15T16:10:56.832Z"
   },
   {
    "duration": 4,
    "start_time": "2023-01-15T16:11:12.693Z"
   },
   {
    "duration": 689,
    "start_time": "2023-01-15T16:11:12.718Z"
   },
   {
    "duration": 26,
    "start_time": "2023-01-15T16:11:13.409Z"
   },
   {
    "duration": 13,
    "start_time": "2023-01-15T16:11:13.436Z"
   },
   {
    "duration": 22,
    "start_time": "2023-01-15T16:11:13.450Z"
   },
   {
    "duration": 8,
    "start_time": "2023-01-15T16:11:13.474Z"
   },
   {
    "duration": 27,
    "start_time": "2023-01-15T16:11:13.484Z"
   },
   {
    "duration": 27,
    "start_time": "2023-01-15T16:11:13.513Z"
   },
   {
    "duration": 23,
    "start_time": "2023-01-15T16:11:13.542Z"
   },
   {
    "duration": 8,
    "start_time": "2023-01-15T16:11:13.567Z"
   },
   {
    "duration": 6,
    "start_time": "2023-01-15T16:11:13.577Z"
   },
   {
    "duration": 10,
    "start_time": "2023-01-15T16:11:13.584Z"
   },
   {
    "duration": 17,
    "start_time": "2023-01-15T16:11:13.595Z"
   },
   {
    "duration": 13,
    "start_time": "2023-01-15T16:11:13.614Z"
   },
   {
    "duration": 29,
    "start_time": "2023-01-15T16:11:13.630Z"
   },
   {
    "duration": 11,
    "start_time": "2023-01-15T16:11:13.661Z"
   },
   {
    "duration": 0,
    "start_time": "2023-01-15T16:11:13.674Z"
   },
   {
    "duration": 0,
    "start_time": "2023-01-15T16:11:13.675Z"
   },
   {
    "duration": 0,
    "start_time": "2023-01-15T16:11:13.676Z"
   },
   {
    "duration": 0,
    "start_time": "2023-01-15T16:11:13.677Z"
   },
   {
    "duration": 0,
    "start_time": "2023-01-15T16:11:13.679Z"
   },
   {
    "duration": 0,
    "start_time": "2023-01-15T16:11:13.680Z"
   },
   {
    "duration": 0,
    "start_time": "2023-01-15T16:11:13.681Z"
   },
   {
    "duration": 0,
    "start_time": "2023-01-15T16:11:13.682Z"
   },
   {
    "duration": 0,
    "start_time": "2023-01-15T16:11:13.683Z"
   },
   {
    "duration": 0,
    "start_time": "2023-01-15T16:11:13.684Z"
   },
   {
    "duration": 0,
    "start_time": "2023-01-15T16:11:13.685Z"
   },
   {
    "duration": 0,
    "start_time": "2023-01-15T16:11:13.686Z"
   },
   {
    "duration": 0,
    "start_time": "2023-01-15T16:11:13.687Z"
   },
   {
    "duration": 0,
    "start_time": "2023-01-15T16:11:13.688Z"
   },
   {
    "duration": 0,
    "start_time": "2023-01-15T16:11:13.689Z"
   },
   {
    "duration": 0,
    "start_time": "2023-01-15T16:11:13.690Z"
   },
   {
    "duration": 0,
    "start_time": "2023-01-15T16:11:13.722Z"
   },
   {
    "duration": 0,
    "start_time": "2023-01-15T16:11:13.723Z"
   },
   {
    "duration": 0,
    "start_time": "2023-01-15T16:11:13.730Z"
   },
   {
    "duration": 0,
    "start_time": "2023-01-15T16:11:13.731Z"
   },
   {
    "duration": 0,
    "start_time": "2023-01-15T16:11:13.735Z"
   },
   {
    "duration": 0,
    "start_time": "2023-01-15T16:11:13.737Z"
   },
   {
    "duration": 0,
    "start_time": "2023-01-15T16:11:13.737Z"
   },
   {
    "duration": 0,
    "start_time": "2023-01-15T16:11:13.739Z"
   },
   {
    "duration": 0,
    "start_time": "2023-01-15T16:11:13.740Z"
   },
   {
    "duration": 0,
    "start_time": "2023-01-15T16:11:13.741Z"
   },
   {
    "duration": 0,
    "start_time": "2023-01-15T16:11:13.742Z"
   },
   {
    "duration": 0,
    "start_time": "2023-01-15T16:11:13.744Z"
   },
   {
    "duration": 0,
    "start_time": "2023-01-15T16:11:13.745Z"
   },
   {
    "duration": 5,
    "start_time": "2023-01-15T16:11:41.936Z"
   },
   {
    "duration": 668,
    "start_time": "2023-01-15T16:11:41.943Z"
   },
   {
    "duration": 25,
    "start_time": "2023-01-15T16:11:42.613Z"
   },
   {
    "duration": 12,
    "start_time": "2023-01-15T16:11:42.639Z"
   },
   {
    "duration": 18,
    "start_time": "2023-01-15T16:11:42.653Z"
   },
   {
    "duration": 8,
    "start_time": "2023-01-15T16:11:42.673Z"
   },
   {
    "duration": 3,
    "start_time": "2023-01-15T16:11:42.683Z"
   },
   {
    "duration": 34,
    "start_time": "2023-01-15T16:11:42.688Z"
   },
   {
    "duration": 8,
    "start_time": "2023-01-15T16:11:42.724Z"
   },
   {
    "duration": 6,
    "start_time": "2023-01-15T16:11:42.735Z"
   },
   {
    "duration": 9,
    "start_time": "2023-01-15T16:11:42.743Z"
   },
   {
    "duration": 14,
    "start_time": "2023-01-15T16:11:42.753Z"
   },
   {
    "duration": 15,
    "start_time": "2023-01-15T16:11:42.768Z"
   },
   {
    "duration": 20,
    "start_time": "2023-01-15T16:11:42.784Z"
   },
   {
    "duration": 29,
    "start_time": "2023-01-15T16:11:42.806Z"
   },
   {
    "duration": 957,
    "start_time": "2023-01-15T16:11:42.837Z"
   },
   {
    "duration": 8,
    "start_time": "2023-01-15T16:11:43.796Z"
   },
   {
    "duration": 1046,
    "start_time": "2023-01-15T16:11:43.805Z"
   },
   {
    "duration": 889,
    "start_time": "2023-01-15T16:11:44.853Z"
   },
   {
    "duration": 805,
    "start_time": "2023-01-15T16:11:45.743Z"
   },
   {
    "duration": 4,
    "start_time": "2023-01-15T16:11:46.549Z"
   },
   {
    "duration": 639,
    "start_time": "2023-01-15T16:11:46.555Z"
   },
   {
    "duration": 7,
    "start_time": "2023-01-15T16:11:47.196Z"
   },
   {
    "duration": 981,
    "start_time": "2023-01-15T16:11:47.204Z"
   },
   {
    "duration": 3,
    "start_time": "2023-01-15T16:11:48.187Z"
   },
   {
    "duration": 30,
    "start_time": "2023-01-15T16:11:48.191Z"
   },
   {
    "duration": 28,
    "start_time": "2023-01-15T16:11:48.223Z"
   },
   {
    "duration": 39,
    "start_time": "2023-01-15T16:11:48.254Z"
   },
   {
    "duration": 28,
    "start_time": "2023-01-15T16:11:48.295Z"
   },
   {
    "duration": 28,
    "start_time": "2023-01-15T16:11:48.324Z"
   },
   {
    "duration": 2269,
    "start_time": "2023-01-15T16:11:48.354Z"
   },
   {
    "duration": 3,
    "start_time": "2023-01-15T16:11:50.625Z"
   },
   {
    "duration": 19260,
    "start_time": "2023-01-15T16:11:50.629Z"
   },
   {
    "duration": 3,
    "start_time": "2023-01-15T16:12:09.891Z"
   },
   {
    "duration": 215006,
    "start_time": "2023-01-15T16:12:09.895Z"
   },
   {
    "duration": 218090,
    "start_time": "2023-01-15T16:15:44.903Z"
   },
   {
    "duration": 5869,
    "start_time": "2023-01-15T16:19:22.995Z"
   },
   {
    "duration": 3,
    "start_time": "2023-01-15T16:19:28.866Z"
   },
   {
    "duration": 32,
    "start_time": "2023-01-15T16:19:28.870Z"
   },
   {
    "duration": 61,
    "start_time": "2023-01-15T16:19:28.904Z"
   },
   {
    "duration": 17,
    "start_time": "2023-01-15T16:19:28.966Z"
   },
   {
    "duration": 1507,
    "start_time": "2023-01-15T16:19:28.985Z"
   },
   {
    "duration": 4,
    "start_time": "2023-01-15T16:19:30.494Z"
   },
   {
    "duration": 60,
    "start_time": "2023-01-15T16:19:30.500Z"
   },
   {
    "duration": 44,
    "start_time": "2023-01-15T16:19:30.561Z"
   },
   {
    "duration": 79,
    "start_time": "2023-01-15T16:21:27.781Z"
   },
   {
    "duration": 45,
    "start_time": "2023-01-15T19:23:17.119Z"
   },
   {
    "duration": 1787,
    "start_time": "2023-01-15T19:23:24.249Z"
   },
   {
    "duration": 1875,
    "start_time": "2023-01-15T19:23:26.038Z"
   },
   {
    "duration": 19,
    "start_time": "2023-01-15T19:23:27.914Z"
   },
   {
    "duration": 13,
    "start_time": "2023-01-15T19:23:27.935Z"
   },
   {
    "duration": 17,
    "start_time": "2023-01-15T19:23:27.950Z"
   },
   {
    "duration": 15,
    "start_time": "2023-01-15T19:23:27.968Z"
   },
   {
    "duration": 4,
    "start_time": "2023-01-15T19:23:27.985Z"
   },
   {
    "duration": 6,
    "start_time": "2023-01-15T19:23:27.990Z"
   },
   {
    "duration": 11,
    "start_time": "2023-01-15T19:23:27.998Z"
   },
   {
    "duration": 6,
    "start_time": "2023-01-15T19:23:28.011Z"
   },
   {
    "duration": 7,
    "start_time": "2023-01-15T19:23:28.019Z"
   },
   {
    "duration": 11,
    "start_time": "2023-01-15T19:23:28.027Z"
   },
   {
    "duration": 47,
    "start_time": "2023-01-15T19:23:28.040Z"
   },
   {
    "duration": 11,
    "start_time": "2023-01-15T19:23:28.091Z"
   },
   {
    "duration": 30,
    "start_time": "2023-01-15T19:23:28.104Z"
   },
   {
    "duration": 1011,
    "start_time": "2023-01-15T19:23:28.136Z"
   },
   {
    "duration": 10,
    "start_time": "2023-01-15T19:23:29.149Z"
   },
   {
    "duration": 960,
    "start_time": "2023-01-15T19:23:29.160Z"
   },
   {
    "duration": 1200,
    "start_time": "2023-01-15T19:23:30.122Z"
   },
   {
    "duration": 846,
    "start_time": "2023-01-15T19:23:31.325Z"
   },
   {
    "duration": 8,
    "start_time": "2023-01-15T19:23:32.172Z"
   },
   {
    "duration": 724,
    "start_time": "2023-01-15T19:23:32.182Z"
   },
   {
    "duration": 8,
    "start_time": "2023-01-15T19:23:32.908Z"
   },
   {
    "duration": 1201,
    "start_time": "2023-01-15T19:23:32.919Z"
   },
   {
    "duration": 4,
    "start_time": "2023-01-15T19:23:34.123Z"
   },
   {
    "duration": 20,
    "start_time": "2023-01-15T19:23:34.129Z"
   },
   {
    "duration": 30,
    "start_time": "2023-01-15T19:23:34.151Z"
   },
   {
    "duration": 23,
    "start_time": "2023-01-15T19:23:34.183Z"
   },
   {
    "duration": 8,
    "start_time": "2023-01-15T19:23:34.209Z"
   },
   {
    "duration": 15,
    "start_time": "2023-01-15T19:23:34.218Z"
   },
   {
    "duration": 2647,
    "start_time": "2023-01-15T19:23:34.234Z"
   },
   {
    "duration": 5,
    "start_time": "2023-01-15T19:23:36.885Z"
   },
   {
    "duration": 18271,
    "start_time": "2023-01-15T19:23:36.892Z"
   },
   {
    "duration": 3,
    "start_time": "2023-01-15T19:23:55.165Z"
   },
   {
    "duration": 201323,
    "start_time": "2023-01-15T19:23:55.170Z"
   },
   {
    "duration": 2,
    "start_time": "2023-01-15T19:31:00.913Z"
   },
   {
    "duration": 17377,
    "start_time": "2023-01-15T19:31:00.917Z"
   },
   {
    "duration": 3,
    "start_time": "2023-01-15T19:31:18.296Z"
   },
   {
    "duration": 20,
    "start_time": "2023-01-15T19:31:18.300Z"
   },
   {
    "duration": 10,
    "start_time": "2023-01-15T19:31:18.321Z"
   },
   {
    "duration": 13,
    "start_time": "2023-01-15T19:31:18.332Z"
   },
   {
    "duration": 4360,
    "start_time": "2023-01-15T19:31:18.346Z"
   },
   {
    "duration": 3,
    "start_time": "2023-01-15T19:31:22.708Z"
   },
   {
    "duration": 9,
    "start_time": "2023-01-15T19:31:22.713Z"
   },
   {
    "duration": 3,
    "start_time": "2023-01-15T19:31:22.724Z"
   },
   {
    "duration": 2,
    "start_time": "2023-01-15T19:34:03.392Z"
   },
   {
    "duration": 2,
    "start_time": "2023-01-15T19:34:17.720Z"
   },
   {
    "duration": 2,
    "start_time": "2023-01-15T19:34:28.239Z"
   },
   {
    "duration": 4,
    "start_time": "2023-01-15T19:34:31.136Z"
   },
   {
    "duration": 4,
    "start_time": "2023-01-15T19:35:21.258Z"
   },
   {
    "duration": 696,
    "start_time": "2023-01-15T19:35:21.264Z"
   },
   {
    "duration": 25,
    "start_time": "2023-01-15T19:35:21.962Z"
   },
   {
    "duration": 13,
    "start_time": "2023-01-15T19:35:21.989Z"
   },
   {
    "duration": 21,
    "start_time": "2023-01-15T19:35:22.004Z"
   },
   {
    "duration": 9,
    "start_time": "2023-01-15T19:35:22.027Z"
   },
   {
    "duration": 4,
    "start_time": "2023-01-15T19:35:22.037Z"
   },
   {
    "duration": 7,
    "start_time": "2023-01-15T19:35:22.042Z"
   },
   {
    "duration": 30,
    "start_time": "2023-01-15T19:35:22.050Z"
   },
   {
    "duration": 6,
    "start_time": "2023-01-15T19:35:22.081Z"
   },
   {
    "duration": 6,
    "start_time": "2023-01-15T19:35:22.089Z"
   },
   {
    "duration": 10,
    "start_time": "2023-01-15T19:35:22.097Z"
   },
   {
    "duration": 23,
    "start_time": "2023-01-15T19:35:22.109Z"
   },
   {
    "duration": 16,
    "start_time": "2023-01-15T19:35:22.135Z"
   },
   {
    "duration": 38,
    "start_time": "2023-01-15T19:35:22.153Z"
   },
   {
    "duration": 968,
    "start_time": "2023-01-15T19:35:22.193Z"
   },
   {
    "duration": 16,
    "start_time": "2023-01-15T19:35:23.162Z"
   },
   {
    "duration": 891,
    "start_time": "2023-01-15T19:35:23.180Z"
   },
   {
    "duration": 1019,
    "start_time": "2023-01-15T19:35:24.074Z"
   },
   {
    "duration": 591,
    "start_time": "2023-01-15T19:35:25.095Z"
   },
   {
    "duration": 4,
    "start_time": "2023-01-15T19:35:25.688Z"
   },
   {
    "duration": 736,
    "start_time": "2023-01-15T19:35:25.694Z"
   },
   {
    "duration": 7,
    "start_time": "2023-01-15T19:35:26.433Z"
   },
   {
    "duration": 944,
    "start_time": "2023-01-15T19:35:26.442Z"
   },
   {
    "duration": 3,
    "start_time": "2023-01-15T19:35:27.388Z"
   },
   {
    "duration": 10,
    "start_time": "2023-01-15T19:35:27.393Z"
   },
   {
    "duration": 45,
    "start_time": "2023-01-15T19:35:27.404Z"
   },
   {
    "duration": 46,
    "start_time": "2023-01-15T19:35:27.451Z"
   },
   {
    "duration": 21,
    "start_time": "2023-01-15T19:35:27.499Z"
   },
   {
    "duration": 27,
    "start_time": "2023-01-15T19:35:27.521Z"
   },
   {
    "duration": 2936,
    "start_time": "2023-01-15T19:35:27.550Z"
   },
   {
    "duration": 2,
    "start_time": "2023-01-15T19:35:30.579Z"
   },
   {
    "duration": 19470,
    "start_time": "2023-01-15T19:35:30.583Z"
   },
   {
    "duration": 2,
    "start_time": "2023-01-15T19:35:50.055Z"
   },
   {
    "duration": 79553,
    "start_time": "2023-01-15T19:35:50.059Z"
   },
   {
    "duration": 198875,
    "start_time": "2023-01-15T19:44:10.529Z"
   },
   {
    "duration": 198973,
    "start_time": "2023-01-15T19:47:29.405Z"
   },
   {
    "duration": 2,
    "start_time": "2023-01-15T19:50:48.379Z"
   },
   {
    "duration": 24,
    "start_time": "2023-01-15T19:50:48.383Z"
   },
   {
    "duration": 7,
    "start_time": "2023-01-15T19:50:48.409Z"
   },
   {
    "duration": 7,
    "start_time": "2023-01-15T19:50:48.417Z"
   },
   {
    "duration": 11,
    "start_time": "2023-01-15T19:50:48.425Z"
   },
   {
    "duration": 4329,
    "start_time": "2023-01-15T19:50:48.438Z"
   },
   {
    "duration": 3,
    "start_time": "2023-01-15T19:50:52.769Z"
   },
   {
    "duration": 13,
    "start_time": "2023-01-15T19:50:52.778Z"
   },
   {
    "duration": 19,
    "start_time": "2023-01-15T19:50:52.793Z"
   },
   {
    "duration": 200563,
    "start_time": "2023-01-15T19:52:38.893Z"
   },
   {
    "duration": 4,
    "start_time": "2023-01-15T19:57:44.546Z"
   },
   {
    "duration": 4,
    "start_time": "2023-01-15T19:57:54.604Z"
   }
  ],
  "kernelspec": {
   "display_name": "Python 3 (ipykernel)",
   "language": "python",
   "name": "python3"
  },
  "language_info": {
   "codemirror_mode": {
    "name": "ipython",
    "version": 3
   },
   "file_extension": ".py",
   "mimetype": "text/x-python",
   "name": "python",
   "nbconvert_exporter": "python",
   "pygments_lexer": "ipython3",
   "version": "3.9.13"
  },
  "toc": {
   "base_numbering": 1,
   "nav_menu": {},
   "number_sections": true,
   "sideBar": true,
   "skip_h1_title": true,
   "title_cell": "Table of Contents",
   "title_sidebar": "Contents",
   "toc_cell": false,
   "toc_position": {
    "height": "calc(100% - 180px)",
    "left": "10px",
    "top": "150px",
    "width": "307.2px"
   },
   "toc_section_display": true,
   "toc_window_display": true
  }
 },
 "nbformat": 4,
 "nbformat_minor": 5
}
